{
 "metadata": {
  "language_info": {
   "codemirror_mode": {
    "name": "ipython",
    "version": 3
   },
   "file_extension": ".py",
   "mimetype": "text/x-python",
   "name": "python",
   "nbconvert_exporter": "python",
   "pygments_lexer": "ipython3",
   "version": "3.7.1"
  },
  "orig_nbformat": 2,
  "kernelspec": {
   "name": "python37132bit43e4c69861cc4e7185d7daf0ab1b2b94",
   "display_name": "Python 3.7.1 32-bit"
  },
  "metadata": {
   "interpreter": {
    "hash": "7f9af6948edc73ec62fe2f0271d96474fa545d34db26098f2fa4cb2eea27f98c"
   }
  }
 },
 "nbformat": 4,
 "nbformat_minor": 2,
 "cells": [
  {
   "cell_type": "code",
   "execution_count": null,
   "metadata": {},
   "outputs": [],
   "source": [
    "\"\"\"\n",
    "1. List down as much as possible buildin functions of python\n",
    "\"\"\"\n",
    " "
   ]
  },
  {
   "cell_type": "code",
   "execution_count": null,
   "metadata": {},
   "outputs": [],
   "source": [
    "\"\"\"\n",
    "Python abs()\n",
    "returns absolute value of a number\n",
    "\n",
    "Python all()\n",
    "returns true when all elements in iterable is true\n",
    "\n",
    "Python any()\n",
    "Checks if any Element of an Iterable is True\n",
    "\n",
    "Python ascii()\n",
    "Returns String Containing Printable Representation\n",
    "\n",
    "Python bin()\n",
    "converts integer to binary string\n",
    "\n",
    "Python bool()\n",
    "Converts a Value to Boolean\n",
    "\n",
    "Python bytearray()\n",
    "returns array of given byte size\n",
    "\n",
    "Python bytes()\n",
    "returns immutable bytes object\n",
    "\n",
    "Python callable()\n",
    "Checks if the Object is Callable\n",
    "\n",
    "Python chr()\n",
    "Returns a Character (a string) from an Integer\n",
    "\n",
    "Python classmethod()\n",
    "returns class method for given function\n",
    "\n",
    "Python compile()\n",
    "Returns a Python code object\n",
    "\n",
    "Python complex()\n",
    "Creates a Complex Number\n",
    "\n",
    "Python delattr()\n",
    "Deletes Attribute From the Object\n",
    "\n",
    "Python dict()\n",
    "Creates a Dictionary\n",
    "\n",
    "Python dir()\n",
    "Tries to Return Attributes of Object\n",
    "\n",
    "Python divmod()\n",
    "Returns a Tuple of Quotient and Remainder\n",
    "\n",
    "Python enumerate()\n",
    "Returns an Enumerate Object\n",
    "\n",
    "Python eval()\n",
    "Runs Python Code Within Program\n",
    "\n",
    "Python exec()\n",
    "Executes Dynamically Created Program\n",
    "\n",
    "Python filter()\n",
    "constructs iterator from elements which are true\n",
    "\n",
    "Python float()\n",
    "returns floating point number from number, string\n",
    "\n",
    "Python format()\n",
    "returns formatted representation of a value\n",
    "\n",
    "Python frozenset()\n",
    "returns immutable frozenset object\n",
    "\n",
    "Python getattr()\n",
    "returns value of named attribute of an object\n",
    "\n",
    "Python globals()\n",
    "returns dictionary of current global symbol table\n",
    "\n",
    "Python hasattr()\n",
    "returns whether object has named attribute\n",
    "\n",
    "Python hash()\n",
    "returns hash value of an object\n",
    "\n",
    "Python help()\n",
    "Invokes the built-in Help System\n",
    "\n",
    "Python hex()\n",
    "Converts to Integer to Hexadecimal\n",
    "\n",
    "Python id()\n",
    "Returns Identify of an Object\n",
    "\n",
    "Python input()\n",
    "reads and returns a line of string\n",
    "\n",
    "Python int()\n",
    "returns integer from a number or string\n",
    "\n",
    "Python isinstance()\n",
    "Checks if a Object is an Instance of Class\n",
    "\n",
    "Python issubclass()\n",
    "Checks if a Class is Subclass of another Class\n",
    "\n",
    "Python iter()\n",
    "returns an iterator\n",
    "\n",
    "Python len()\n",
    "Returns Length of an Object\n",
    "\n",
    "Python list()\n",
    "creates a list in Python\n",
    "\n",
    "Python locals()\n",
    "Returns dictionary of a current local symbol table\n",
    "\n",
    "Python map()\n",
    "Applies Function and Returns a List\n",
    "\n",
    "Python max()\n",
    "returns the largest item\n",
    "\n",
    "Python memoryview()\n",
    "returns memory view of an argument\n",
    "\n",
    "Python min()\n",
    "returns the smallest value\n",
    "\n",
    "Python next()\n",
    "Retrieves next item from the iterator\n",
    "\n",
    "Python object()\n",
    "creates a featureless object\n",
    "\n",
    "Python oct()\n",
    "returns the octal representation of an integer\n",
    "\n",
    "Python open()\n",
    "Returns a file object\n",
    "\n",
    "Python ord()\n",
    "returns an integer of the Unicode character\n",
    "\n",
    "Python pow()\n",
    "returns the power of a number\n",
    "\n",
    "Python print()\n",
    "Prints the Given Object\n",
    "\n",
    "Python property()\n",
    "returns the property attribute\n",
    "\n",
    "Python range()\n",
    "return sequence of integers between start and stop\n",
    "\n",
    "Python repr()\n",
    "returns a printable representation of the object\n",
    "\n",
    "Python reversed()\n",
    "returns the reversed iterator of a sequence\n",
    "\n",
    "Python round()\n",
    "rounds a number to specified decimals\n",
    "\n",
    "Python set()\n",
    "constructs and returns a set\n",
    "\n",
    "Python setattr()\n",
    "sets the value of an attribute of an object\n",
    "\n",
    "Python slice()\n",
    "returns a slice object\n",
    "\n",
    "Python sorted()\n",
    "returns a sorted list from the given iterable\n",
    "\n",
    "Python staticmethod()\n",
    "transforms a method into a static method\n",
    "\n",
    "Python str()\n",
    "returns the string version of the object\n",
    "\n",
    "Python sum()\n",
    "Adds items of an Iterable\n",
    "\n",
    "Python super()\n",
    "Returns a proxy object of the base class\n",
    "\n",
    "Python tuple()\n",
    "Returns a tuple\n",
    "\n",
    "Python type()\n",
    "Returns the type of the object\n",
    "\n",
    "Python vars()\n",
    "Returns the __dict__ attribute\n",
    "\n",
    "Python zip()\n",
    "Returns an iterator of tuples\n",
    "\n",
    "Python __import__()\n",
    "Function called by the import statement\n",
    "\"\"\""
   ]
  },
  {
   "cell_type": "code",
   "execution_count": null,
   "metadata": {},
   "outputs": [],
   "source": [
    "\"\"\"\n",
    "2. Write down the skeleton of a function with optionals\n",
    "\"\"\"\n"
   ]
  },
  {
   "cell_type": "code",
   "execution_count": 1,
   "metadata": {},
   "outputs": [
    {
     "output_type": "stream",
     "name": "stdout",
     "text": [
      "3\n4\n5\n6\n"
     ]
    }
   ],
   "source": [
    "def myfunc(a,b, *args, **kwargs):\n",
    "   for ar in args:\n",
    "      print(ar)\n",
    "a,b,c,d,e,f = 1,2,3,4,5,6\n",
    "myfunc(a,b,c,d,e,f)"
   ]
  },
  {
   "cell_type": "code",
   "execution_count": null,
   "metadata": {},
   "outputs": [],
   "source": [
    "\"\"\"\n",
    "3. WAF to print \"Hello World\"\n",
    "\"\"\""
   ]
  },
  {
   "cell_type": "code",
   "execution_count": 2,
   "metadata": {},
   "outputs": [
    {
     "output_type": "stream",
     "name": "stdout",
     "text": [
      "Hello world\n"
     ]
    }
   ],
   "source": [
    "def myfun():\n",
    "    print(\"Hello world\")\n",
    "\n",
    "myfun()"
   ]
  },
  {
   "cell_type": "code",
   "execution_count": null,
   "metadata": {},
   "outputs": [],
   "source": [
    "\"\"\"\n",
    "4. WAF which takes name as parameter and prints it\n",
    "\"\"\"\n"
   ]
  },
  {
   "cell_type": "code",
   "execution_count": 5,
   "metadata": {},
   "outputs": [
    {
     "output_type": "stream",
     "name": "stdout",
     "text": [
      "kunal Agrawal\n"
     ]
    }
   ],
   "source": [
    "def myfun(a,b):\n",
    "    print(a,b)\n",
    "\n",
    "a = 'kunal'\n",
    "b = 'Agrawal'\n",
    "myfun(a,b)\n"
   ]
  },
  {
   "cell_type": "code",
   "execution_count": null,
   "metadata": {},
   "outputs": [],
   "source": [
    "\"\"\"\n",
    "5. WAF which takes number as parameter and prints the square of it\n",
    "\"\"\"\n"
   ]
  },
  {
   "cell_type": "code",
   "execution_count": 6,
   "metadata": {},
   "outputs": [
    {
     "output_type": "stream",
     "name": "stdout",
     "text": [
      "4\n"
     ]
    }
   ],
   "source": [
    "def myfun(a):\n",
    "    print(a**2)\n",
    "\n",
    "myfun(2)"
   ]
  },
  {
   "cell_type": "code",
   "execution_count": null,
   "metadata": {},
   "outputs": [],
   "source": [
    "\"\"\"\n",
    "6. WAF which takes two number as parameter, calculates the sum of square of the parameters and returns it\n",
    "\"\"\"\n"
   ]
  },
  {
   "cell_type": "code",
   "execution_count": 7,
   "metadata": {},
   "outputs": [
    {
     "output_type": "stream",
     "name": "stdout",
     "text": [
      "13\n"
     ]
    }
   ],
   "source": [
    "def myfun(a,b):\n",
    "    return a**2 + b**2\n",
    "print(myfun(2,3))"
   ]
  },
  {
   "cell_type": "code",
   "execution_count": null,
   "metadata": {},
   "outputs": [],
   "source": [
    "\"\"\"\n",
    "7. WAF to find factorial of given number\n",
    "\"\"\""
   ]
  },
  {
   "cell_type": "code",
   "execution_count": 10,
   "metadata": {},
   "outputs": [
    {
     "output_type": "stream",
     "name": "stdout",
     "text": [
      "24\n"
     ]
    }
   ],
   "source": [
    "def fact(n):\n",
    "    fact,i = 1,n\n",
    "    while(i>0):\n",
    "        fact = fact*i\n",
    "        i-=1\n",
    "    return fact\n",
    "\n",
    "print(fact(4))\n"
   ]
  },
  {
   "cell_type": "code",
   "execution_count": null,
   "metadata": {},
   "outputs": [],
   "source": [
    "\"\"\"\n",
    "8. WAF which takes two paramaters, camculates the sum and product of them and returns.\n",
    "\"\"\""
   ]
  },
  {
   "cell_type": "code",
   "execution_count": 1,
   "metadata": {},
   "outputs": [
    {
     "output_type": "stream",
     "name": "stdout",
     "text": [
      "5\n6\n"
     ]
    }
   ],
   "source": [
    "def fun(a,b):\n",
    "    return a+b\n",
    "def fun1(a,b):\n",
    "    return a*b\n",
    "\n",
    "print(fun(2,3))\n",
    "print(fun1(2,3))"
   ]
  },
  {
   "cell_type": "code",
   "execution_count": null,
   "metadata": {},
   "outputs": [],
   "source": [
    "\"\"\"\n",
    "9. List down the types of arguments and explain those in with example.\n",
    "\n",
    "\"\"\"\n"
   ]
  },
  {
   "cell_type": "code",
   "execution_count": null,
   "metadata": {},
   "outputs": [],
   "source": [
    "\"\"\"\n",
    "1. Default Argument in Python\n",
    "Python Program arguments can have default values. We assign a default value to an argument using the assignment operator in python(=).\n",
    "\n",
    "When we call a function without a value for an argument, its default value (as mentioned) is used.\n",
    "\n",
    " def greeting(name='User'):\n",
    "                print(f\"Hello, {name}\")\n",
    " greeting('Ayushi')\n",
    "\n",
    " 2.With keyword arguments in python, we can change the order of passing the arguments without any consequences.\n",
    "Let’s take a function to divide two numbers, and return the quotient.\n",
    ">>> def divide(a,b):\n",
    "                return a/b\n",
    ">>> divide(3,2)\n",
    "\n",
    "3. Python Arbitrary Arguments\n",
    "You may not always know how many arguments you’ll get. In that case, you use an asterisk(*) before an argument name.\n",
    ">>> def sayhello(*names):\n",
    "                for name in names:\n",
    "                    print(f\"Hello, {name}\")\n",
    "\"\"\""
   ]
  },
  {
   "cell_type": "code",
   "execution_count": null,
   "metadata": {},
   "outputs": [],
   "source": [
    "\"\"\"\n",
    "10. WAF to get variable length argument and caculate the sum of square of those numbers\n",
    "\n",
    "\"\"\"\n"
   ]
  },
  {
   "cell_type": "code",
   "execution_count": 21,
   "metadata": {},
   "outputs": [
    {
     "output_type": "stream",
     "name": "stdout",
     "text": [
      "(8, 2, 3, 0, 7)\n126\n"
     ]
    }
   ],
   "source": [
    "def sumnum(*numb):\n",
    "    total = 0\n",
    "    print(numb)\n",
    "    for x in range(len(numb)):\n",
    "         total = total + numb[x]**2\n",
    "    return total\n",
    "\n",
    "print(sumnum(8, 2, 3, 0, 7))"
   ]
  },
  {
   "cell_type": "code",
   "execution_count": null,
   "metadata": {},
   "outputs": [],
   "source": [
    "\"\"\"\n",
    "11. WAF to get two parameters as input 1. variable length argument of integers 2. positional parameter and identify whether second parameter is available in the variable length argument\n",
    "\"\"\""
   ]
  },
  {
   "cell_type": "code",
   "execution_count": 2,
   "metadata": {},
   "outputs": [
    {
     "output_type": "stream",
     "name": "stdout",
     "text": [
      "found 1\n"
     ]
    }
   ],
   "source": [
    "def fun(a,*args):\n",
    "    for i in range(len(args)):\n",
    "        if a == args[i]:\n",
    "            print(\"found\",args[i])\n",
    "            \n",
    "fun(1,2,3,4,5,6,1)"
   ]
  },
  {
   "cell_type": "code",
   "execution_count": null,
   "metadata": {},
   "outputs": [],
   "source": [
    "\"\"\"\n",
    "12. Function \n",
    "\tdef fun(arg1, arg2, arg3=4, arg4=8):\n",
    "\t\tprint(arg1, arg2,arg3,arg4)\n",
    "\t\n",
    "What will be the output of the below function calls\n",
    "\t1. fun(3,2)\n",
    "\t2. fun(10, 20, 30, 40)\n",
    "\t3. fun(25, 50, arg4=10)\n",
    "\t4. fun(arg4=4, arg1=3, arg2=4)\n",
    "\t5. fun()\n",
    "\t6. fun(arg3=10, arg4=20, 30, 40)\n",
    "\t7. fun(4, 5, arg2=6)\n",
    "\t8. fun(4, ,5 arg3=5, arg5=6)\n",
    "\"\"\"\n"
   ]
  },
  {
   "cell_type": "code",
   "execution_count": 1,
   "metadata": {},
   "outputs": [],
   "source": [
    "def fun(arg1, arg2, arg3=4, arg4=8):\n",
    "\t\tprint(arg1, arg2,arg3,arg4)\n",
    "#fun(3,2) #3248\n",
    "# fun(10, 20, 30, 40) #10 20 30 40\n",
    "#fun(25, 50, arg4=10)#25 50 10 8\n",
    "#fun(arg4=4, arg1=3, arg2=4)#3 4 4 4\n",
    "#fun()# error\n",
    "#fun(arg3=10, arg4=20, 30, 40)# error\n",
    "# fun(4, 5, arg2=6)# error\n",
    "# fun(4, ,5 arg3=5, arg5=6) #error\n"
   ]
  },
  {
   "cell_type": "code",
   "execution_count": null,
   "metadata": {},
   "outputs": [],
   "source": [
    "\"\"\"\n",
    "13.Short note on function vs module vs library\n",
    "\"\"\"\n",
    "\n"
   ]
  },
  {
   "cell_type": "code",
   "execution_count": null,
   "metadata": {},
   "outputs": [],
   "source": [
    "\"\"\"\n",
    "A module is a Python file that’s intended to be imported into scripts or other modules. It often defines members like classes, functions, and variables intended to be used in other files that import it.\n",
    "\n",
    "A package is a collection of related modules that work together to provide certain functionality. These modules are contained within a folder and can be imported just like any other modules. This folder will often contain a special __init__ file that tells Python it’s a package, potentially containing more modules nested within subfolders\n",
    "\n",
    "A library is an umbrella term that loosely means “a bundle of code.” These can have tens or even hundreds of individual modules that can provide a wide range of functionality. Matplotlib is a plotting library. The Python Standard Library contains hundreds of modules for performing common tasks, like sending emails or reading JSON data. What’s special about the Standard Library is that it comes bundled with your installation of Python, so you can use its modules without having to download them from anywhere.\n",
    "\n",
    "\"\"\""
   ]
  },
  {
   "cell_type": "code",
   "execution_count": null,
   "metadata": {},
   "outputs": [],
   "source": [
    "\"\"\"\n",
    "14. Short note on global variables\n",
    "\"\"\""
   ]
  },
  {
   "cell_type": "code",
   "execution_count": null,
   "metadata": {},
   "outputs": [],
   "source": [
    "\"\"\"\n",
    "n Python, a variable declared outside of the function or in global scope is known as a global variable. This means that a global variable can be accessed inside or outside of the function.\n",
    "\n",
    "Let's see an example of how a global variable is created in Python.\n",
    "\n",
    "Example 1: Create a Global Variable\n",
    "x = \"global\"\n",
    "\n",
    "def foo():\n",
    "    print(\"x inside:\", x)\n",
    "\n",
    "\n",
    "foo()\n",
    "print(\"x outside:\", x)\n",
    "Output\n",
    "\n",
    "x inside: global\n",
    "x outside: global\n",
    "In the above code, we created x as a global variable and defined a foo() to print the global variable x. Finally, we call the foo() which will print the value of x.\n",
    "\"\"\""
   ]
  },
  {
   "cell_type": "code",
   "execution_count": null,
   "metadata": {},
   "outputs": [],
   "source": [
    "\"\"\"\n",
    "15. Short note on local variables\n",
    "\n",
    "\"\"\""
   ]
  },
  {
   "cell_type": "code",
   "execution_count": null,
   "metadata": {},
   "outputs": [],
   "source": [
    " \"\"\"\n",
    " variable declared inside the function's body or in the local scope is known as a local variable.\n",
    "\n",
    "Example 2: Accessing local variable outside the scope\n",
    "def foo():\n",
    "    y = \"local\"\n",
    "\n",
    "\n",
    "foo()\n",
    "print(y)\n",
    "Output\n",
    "\n",
    "NameError: name 'y' is not defined\n",
    "The output shows an error because we are trying to access a local variable y in a global scope whereas the local variable only works inside foo() or local scope.\n",
    "\"\"\"\n",
    "\n"
   ]
  },
  {
   "cell_type": "code",
   "execution_count": null,
   "metadata": {},
   "outputs": [],
   "source": [
    "\"\"\"\n",
    "16. WAF to caculate factorial of number using recursion\n",
    "\"\"\""
   ]
  },
  {
   "cell_type": "code",
   "execution_count": null,
   "metadata": {},
   "outputs": [],
   "source": [
    "def factorial(n):\n",
    "    if(n==1):\n",
    "        return 1\n",
    "    return n*factorial(n-1)\n",
    "print(factorial(7)"
   ]
  },
  {
   "cell_type": "code",
   "execution_count": null,
   "metadata": {},
   "outputs": [],
   "source": [
    "\"\"\"\n",
    "17. What is lambda function. SHort not with example \n",
    "\"\"\"\n"
   ]
  },
  {
   "cell_type": "code",
   "execution_count": null,
   "metadata": {},
   "outputs": [],
   "source": [
    "\"\"\"\n",
    "n Python, an anonymous function means that a function is without a name. As we already know that the def keyword is used to define a normal function in Python. Similarly, the lambda keyword is used to define an anonymous function in Python. It has the following syntax: \n",
    "\n",
    "Syntax: lambda arguments: expression\n",
    "This function can have any number of arguments but only one expression, which is evaluated and returned.\n",
    "One is free to use lambda functions wherever function objects are required.\n",
    "You need to keep in your knowledge that lambda functions are syntactically restricted to a single expression.\n",
    "It has various uses in particular fields of programming besides other types of expressions in functions.\n",
    "Let’s look at this example and try to understand the difference between a normal def defined function and lambda function. This is a program that returns the cube of a given value:  \n",
    "\n",
    "\n",
    "# Python code to illustrate cube of a number\n",
    "# showing difference between def() and lambda().\n",
    "def cube(y):\n",
    "    return y*y*y\n",
    " \n",
    "lambda_cube = lambda y: y*y*y\n",
    " \n",
    "# using the normally\n",
    "# defined function\n",
    "print(cube(5))\n",
    " \n",
    "# using the lambda function\n",
    "print(lambda_cube(5))\n",
    "\n",
    "\"\"\""
   ]
  },
  {
   "cell_type": "code",
   "execution_count": null,
   "metadata": {},
   "outputs": [],
   "source": [
    "\"\"\"\n",
    "18. Write a lambda function to get square of given number \n",
    "\n",
    "\"\"\"\n"
   ]
  },
  {
   "cell_type": "code",
   "execution_count": 11,
   "metadata": {},
   "outputs": [
    {
     "output_type": "stream",
     "name": "stdout",
     "text": [
      "4\n"
     ]
    }
   ],
   "source": [
    "square = lambda x: x**2\n",
    "print(square(2))"
   ]
  },
  {
   "cell_type": "code",
   "execution_count": null,
   "metadata": {},
   "outputs": [],
   "source": [
    "\"\"\"\n",
    "19. Write a lambda function to get sum of two given numbers\n",
    "\"\"\"\n"
   ]
  },
  {
   "cell_type": "code",
   "execution_count": 13,
   "metadata": {},
   "outputs": [
    {
     "output_type": "stream",
     "name": "stdout",
     "text": [
      "5\n"
     ]
    }
   ],
   "source": [
    "sum = lambda x,y: x+y\n",
    "print(sum(2,3))"
   ]
  },
  {
   "cell_type": "code",
   "execution_count": null,
   "metadata": {},
   "outputs": [],
   "source": [
    "\"\"\"\n",
    "20. Write a lambda function to get max of given values\n",
    "\"\"\""
   ]
  },
  {
   "cell_type": "code",
   "execution_count": 25,
   "metadata": {},
   "outputs": [
    {
     "output_type": "stream",
     "name": "stdout",
     "text": [
      "7\n"
     ]
    }
   ],
   "source": [
    "x = [1,2,3,4,5,6,7]\n",
    "a = lambda x : max(x)\n",
    "print(a(x))\n"
   ]
  },
  {
   "cell_type": "code",
   "execution_count": null,
   "metadata": {},
   "outputs": [],
   "source": [
    "\"\"\"\n",
    "21. WAP to filter even numbers from list by using filter() function \n",
    "\"\"\"\n"
   ]
  },
  {
   "cell_type": "code",
   "execution_count": 26,
   "metadata": {},
   "outputs": [
    {
     "output_type": "stream",
     "name": "stdout",
     "text": [
      "[2, 4]\n"
     ]
    }
   ],
   "source": [
    "lis1 = [1,2,3,4,5]\n",
    "  \n",
    "is_even = lambda x: x % 2 == 0\n",
    "lis2 = list(filter(is_even, lis1))\n",
    "print(lis2)"
   ]
  },
  {
   "cell_type": "code",
   "execution_count": null,
   "metadata": {},
   "outputs": [],
   "source": [
    "\"\"\"\n",
    "22.WAP to filter students whoes name starts with \"a\" by using filter() function \n",
    "\"\"\"\n"
   ]
  },
  {
   "cell_type": "code",
   "execution_count": 28,
   "metadata": {},
   "outputs": [
    {
     "output_type": "stream",
     "name": "stdout",
     "text": [
      "['a', 'ab', 'anc']\n"
     ]
    }
   ],
   "source": [
    "list1 = ['a','c','b','ab','anc']\n",
    "print(list(filter(lambda x : x[0] == 'a' , list1)))"
   ]
  },
  {
   "cell_type": "code",
   "execution_count": null,
   "metadata": {},
   "outputs": [],
   "source": [
    "\"\"\"\n",
    "23. WAP to get list of integers as input and generate another list containing the square of all integers from list one. Write using lambda function and also without using lambda function\n",
    "\n",
    "\"\"\""
   ]
  },
  {
   "cell_type": "code",
   "execution_count": 17,
   "metadata": {},
   "outputs": [
    {
     "output_type": "stream",
     "name": "stdout",
     "text": [
      "[1, 2, 3, 4, 5]\n[1, 4, 9, 16, 25]\n"
     ]
    }
   ],
   "source": [
    "n = 5\n",
    "nums = []\n",
    "for i in range(n):\n",
    "    num = int(input(\"Enter the number: \"))\n",
    "    nums.append(num)\n",
    "print(nums)\n",
    "    \n",
    "print(list(map(lambda n: n ** 2, nums)))"
   ]
  },
  {
   "cell_type": "code",
   "execution_count": null,
   "metadata": {},
   "outputs": [],
   "source": [
    "\"\"\"\n",
    "24. WAP to calculate the sum of al numbers present in the list using reduce()\n",
    "\n",
    "\"\"\"\n"
   ]
  },
  {
   "cell_type": "code",
   "execution_count": 12,
   "metadata": {},
   "outputs": [
    {
     "output_type": "stream",
     "name": "stdout",
     "text": [
      "15\n"
     ]
    }
   ],
   "source": [
    "from functools import reduce\n",
    "a=[1,2,3,4,5]\n",
    "print(reduce(lambda x,y:x+y,a))"
   ]
  },
  {
   "cell_type": "code",
   "execution_count": null,
   "metadata": {},
   "outputs": [],
   "source": [
    "\"\"\"\n",
    "25. Prove that everything in python is an object\n",
    "\"\"\"\n"
   ]
  },
  {
   "cell_type": "code",
   "execution_count": null,
   "metadata": {},
   "outputs": [],
   "source": [
    "\"\"\"\n",
    "In Python, pretty much everything is an object, whether it is a number, a function or even modules. Python is using a pure object model where classes are instances of a meta-class “type” in Python, the terms “type” and “class” are synonyms. And “type” is the only class which is an instance of itself. This object model can be useful when we want information about a particular resource in Python. Except for the Python keywords like “if def, globals”, using type(<name>) or dir(<name>) or just type the resource name and press enter- will work on pretty much anything. Let’s make it clear what this statement means that “Everything in Python is an object”.\n",
    "\"\"\""
   ]
  },
  {
   "cell_type": "code",
   "execution_count": null,
   "metadata": {},
   "outputs": [],
   "source": [
    "\"\"\"\n",
    "26. Create the alias of the function defined in the Que 12, print the id of both functions and perform the same set of operations\n",
    "\"\"\"\n"
   ]
  },
  {
   "cell_type": "code",
   "execution_count": 18,
   "metadata": {},
   "outputs": [
    {
     "output_type": "stream",
     "name": "stdout",
     "text": [
      "107805768\n107805768\n"
     ]
    }
   ],
   "source": [
    "def fun(arg1, arg2, arg3=4, arg4=8):\n",
    "    print(str(arg1)+\",\"+str(arg2)+\",\"+str(arg3)+\",\"+str(arg4))\n",
    "        \n",
    "al_fun = fun\n",
    "\n",
    "print(str(id(fun)))\n",
    "print(str(id(al_fun)))"
   ]
  },
  {
   "cell_type": "code",
   "execution_count": null,
   "metadata": {},
   "outputs": [],
   "source": [
    "\"\"\"\n",
    "27. Nested function: Create a function which takes the list of numbers as parameter, calculates the square of every number in the nexted function and returns the final list of squares.\n",
    "\"\"\"\n"
   ]
  },
  {
   "cell_type": "code",
   "execution_count": 25,
   "metadata": {},
   "outputs": [
    {
     "output_type": "stream",
     "name": "stdout",
     "text": [
      "[1, 4, 9, 16, 25]\n"
     ]
    }
   ],
   "source": [
    "def list1(*args):\n",
    "    def square():\n",
    "        x = [i*i for i in args]\n",
    "        print(x)\n",
    "    square()\n",
    "list1(1,2,3,4,5)"
   ]
  },
  {
   "cell_type": "code",
   "execution_count": null,
   "metadata": {},
   "outputs": [],
   "source": [
    "\"\"\"\n",
    "28. What is the main() function in Python\n",
    "\n",
    "\"\"\""
   ]
  },
  {
   "cell_type": "code",
   "execution_count": null,
   "metadata": {},
   "outputs": [],
   "source": [
    "\"\"\"\n",
    "Some programming languages have a special function called main() which is the execution point for a program file. Python interpreter, however, runs each line serially from the top of the file and has no explicit main() function.\n",
    "\n",
    "Python offers other conventions to define the execution point. One of them is using the main() function and the __name__ property of a python file.\n",
    "\n",
    "What is __name__ in Python?\n",
    "The __name__ variable is a special builtin Python variable that shows the name of the current module.\n",
    "\n",
    "It has different values depending on where we execute the Python file. Let's look at an example.\n",
    "\"\"\""
   ]
  },
  {
   "cell_type": "code",
   "execution_count": null,
   "metadata": {},
   "outputs": [],
   "source": [
    "\"\"\"\n",
    "29. What is __name__ in Python, what are the ways to execute python file differently in different contexts. Ref. https://www.programiz.com/python-programming/main-function\n",
    "\n",
    "\"\"\""
   ]
  },
  {
   "cell_type": "code",
   "execution_count": null,
   "metadata": {},
   "outputs": [],
   "source": [
    "\"\"\"\n",
    "The __name__ variable is a special builtin Python variable that shows the name of the current module.\n",
    "\n",
    "It has different values depending on where we execute the Python file. Let's look at an example.\n",
    "\n",
    "Running Python File as a Script\n",
    "Suppose we have a Python file called helloworld.py with the following content:\n",
    "\n",
    "print(__name__)\n",
    "If we run helloworld.py from the command line, then it runs as a Python script. We can run the Python program using the following command:\n",
    "\n",
    "$ python helloworld.py\n",
    "When we run the program as a script, the value of the variable __name__ is set to __main__. So the output of the following program will be:\n",
    "\n",
    "__main__\n",
    "\"\"\""
   ]
  },
  {
   "cell_type": "code",
   "execution_count": null,
   "metadata": {},
   "outputs": [],
   "source": [
    "\"\"\"\n",
    "30. What will be the output of below \n",
    "\t1. abs(-7.25)\n",
    "\t2. abs(3+5j)\n",
    "\t3. abs(3 - 4j)\n",
    "\t4. round(5.76543, 2)\n",
    "\t5. round(5.76543)\n",
    "\t6. round(-1.2)\n",
    "\t7. arr = [-0.341111, 1.455098989, 4.232323, -0.3432326, 7.626632, 5.122323] what will be values of round(arr, 2) Note: Use numpy to create an array\n",
    "\t\n",
    "\"\"\""
   ]
  },
  {
   "cell_type": "code",
   "execution_count": 32,
   "metadata": {},
   "outputs": [
    {
     "output_type": "stream",
     "name": "stdout",
     "text": [
      "7.25\n5.830951894845301\n5.0\n5.77\n6\n-1\n[-0.341111    1.45509899  4.232323   -0.3432326   7.626632    5.122323  ]\n"
     ]
    },
    {
     "output_type": "error",
     "ename": "TypeError",
     "evalue": "type numpy.ndarray doesn't define __round__ method",
     "traceback": [
      "\u001b[1;31m---------------------------------------------------------------------------\u001b[0m",
      "\u001b[1;31mTypeError\u001b[0m                                 Traceback (most recent call last)",
      "\u001b[1;32m<ipython-input-32-c73c120a41df>\u001b[0m in \u001b[0;36m<module>\u001b[1;34m\u001b[0m\n\u001b[0;32m      9\u001b[0m \u001b[0marr\u001b[0m \u001b[1;33m=\u001b[0m \u001b[0mnp\u001b[0m\u001b[1;33m.\u001b[0m\u001b[0marray\u001b[0m\u001b[1;33m(\u001b[0m\u001b[1;33m[\u001b[0m\u001b[1;33m-\u001b[0m\u001b[1;36m0.341111\u001b[0m\u001b[1;33m,\u001b[0m \u001b[1;36m1.455098989\u001b[0m\u001b[1;33m,\u001b[0m \u001b[1;36m4.232323\u001b[0m\u001b[1;33m,\u001b[0m \u001b[1;33m-\u001b[0m\u001b[1;36m0.3432326\u001b[0m\u001b[1;33m,\u001b[0m \u001b[1;36m7.626632\u001b[0m\u001b[1;33m,\u001b[0m \u001b[1;36m5.122323\u001b[0m\u001b[1;33m]\u001b[0m\u001b[1;33m)\u001b[0m\u001b[1;33m\u001b[0m\u001b[1;33m\u001b[0m\u001b[0m\n\u001b[0;32m     10\u001b[0m \u001b[0mprint\u001b[0m\u001b[1;33m(\u001b[0m\u001b[0marr\u001b[0m\u001b[1;33m)\u001b[0m\u001b[1;33m\u001b[0m\u001b[1;33m\u001b[0m\u001b[0m\n\u001b[1;32m---> 11\u001b[1;33m \u001b[0mprint\u001b[0m\u001b[1;33m(\u001b[0m\u001b[0mround\u001b[0m\u001b[1;33m(\u001b[0m\u001b[0marr\u001b[0m\u001b[1;33m,\u001b[0m\u001b[1;36m2\u001b[0m\u001b[1;33m)\u001b[0m\u001b[1;33m)\u001b[0m\u001b[1;33m\u001b[0m\u001b[1;33m\u001b[0m\u001b[0m\n\u001b[0m",
      "\u001b[1;31mTypeError\u001b[0m: type numpy.ndarray doesn't define __round__ method"
     ]
    }
   ],
   "source": [
    "print(abs(-7.25))\n",
    "print(abs(3+5j))\n",
    "print(abs(-3 - 4j))\n",
    "print(round(5.76543, 2))\n",
    "print(round(5.76543))\n",
    "print(round(-1.2))\n",
    "\n",
    "import numpy as np\n",
    "arr = np.array([-0.341111, 1.455098989, 4.232323, -0.3432326, 7.626632, 5.122323])\n",
    "print(arr)\n",
    "print(round(arr,2))"
   ]
  },
  {
   "cell_type": "code",
   "execution_count": null,
   "metadata": {},
   "outputs": [],
   "source": [
    "\"\"\"\n",
    "31. Print values of all below \n",
    "\tround_num = 15.456\n",
    "\tfinal_val = round(round_num, 2)\n",
    "\tval1=decimal.Decimal(round_num).quantize(decimal.Decimal('0.00'), rounding=decimal.ROUND_CEILING)\n",
    "\tval1=decimal.Decimal(round_num).quantize(decimal.Decimal('0.00'), rounding=decimal.ROUND_DOWN)\n",
    "\tval1=decimal.Decimal(round_num).quantize(decimal.Decimal('0.00'), rounding=decimal.ROUND_FLOOR)\n",
    "\tval1=decimal.Decimal(round_num).quantize(decimal.Decimal('0.00'), rounding=decimal.ROUND_HALF_DOWN)\n",
    "\tval1=decimal.Decimal(round_num).quantize(decimal.Decimal('0.00'), rounding=decimal.ROUND_HALF_EVEN)\n",
    "\tval1=decimal.Decimal(round_num).quantize(decimal.Decimal('0.00'), rounding=decimal.ROUND_HALF_UP)\n",
    "\tval1=decimal.Decimal(round_num).quantize(decimal.Decimal('0.00'), rounding=decimal.ROUND_UP)\n",
    "\"\"\""
   ]
  },
  {
   "cell_type": "code",
   "execution_count": 33,
   "metadata": {},
   "outputs": [
    {
     "output_type": "stream",
     "name": "stdout",
     "text": [
      "15.46\n15.45\n15.46\n15.45\n15.46\n15.46\n15.46\n"
     ]
    }
   ],
   "source": [
    "import decimal\n",
    "round_num = 15.456\n",
    "final_val = round(round_num, 2)\n",
    "print(decimal.Decimal(round_num).quantize(decimal.Decimal('0.00'), rounding=decimal.ROUND_CEILING))\n",
    "print(decimal.Decimal(round_num).quantize(decimal.Decimal('0.00'), rounding=decimal.ROUND_FLOOR))\n",
    "print(decimal.Decimal(round_num).quantize(decimal.Decimal('0.00'), rounding=decimal.ROUND_HALF_DOWN))\n",
    "print(decimal.Decimal(round_num).quantize(decimal.Decimal('0.00'), rounding=decimal.ROUND_DOWN))\n",
    "print(decimal.Decimal(round_num).quantize(decimal.Decimal('0.00'), rounding=decimal.ROUND_HALF_EVEN))\n",
    "print(decimal.Decimal(round_num).quantize(decimal.Decimal('0.00'), rounding=decimal.ROUND_HALF_UP))\n",
    "print(decimal.Decimal(round_num).quantize(decimal.Decimal('0.00'), rounding=decimal.ROUND_UP))"
   ]
  },
  {
   "cell_type": "code",
   "execution_count": null,
   "metadata": {},
   "outputs": [],
   "source": [
    "\"\"\"\n",
    "32. WAP to create a sequence of numbers from 3 to 5 using range()\n",
    "\"\"\"\n"
   ]
  },
  {
   "cell_type": "code",
   "execution_count": null,
   "metadata": {},
   "outputs": [],
   "source": [
    "print(str(list(range(3,6))))"
   ]
  },
  {
   "cell_type": "code",
   "execution_count": null,
   "metadata": {},
   "outputs": [],
   "source": [
    "\"\"\"\n",
    "33. WAP to create a sequence of numbers from 3 to 19, but increment by 2 instead of 1\n",
    "\n",
    "\"\"\"\n"
   ]
  },
  {
   "cell_type": "code",
   "execution_count": null,
   "metadata": {},
   "outputs": [],
   "source": [
    "print(str(list(range(3,20,2))))"
   ]
  },
  {
   "cell_type": "code",
   "execution_count": null,
   "metadata": {},
   "outputs": [],
   "source": [
    "\"\"\"\n",
    "34. WAP to create a list of even number between the given numbers using range()\n",
    "\"\"\""
   ]
  },
  {
   "cell_type": "code",
   "execution_count": null,
   "metadata": {},
   "outputs": [],
   "source": [
    "print(str(list(range(0,201,2))))"
   ]
  },
  {
   "cell_type": "code",
   "execution_count": null,
   "metadata": {},
   "outputs": [],
   "source": [
    "\"\"\"\n",
    "35. What will be the output of range(2, -14, -2)\n",
    "\"\"\"\n"
   ]
  },
  {
   "cell_type": "code",
   "execution_count": 3,
   "metadata": {},
   "outputs": [
    {
     "output_type": "stream",
     "name": "stdout",
     "text": [
      "[2, 0, -2, -4, -6, -8, -10, -12]\n"
     ]
    }
   ],
   "source": [
    "print([i for i in range(2,-14,-2)])"
   ]
  },
  {
   "cell_type": "code",
   "execution_count": null,
   "metadata": {},
   "outputs": [],
   "source": [
    "\"\"\"\n",
    "36.Identify the time taken by Que 7 and Que 16 to excute using timeit\n",
    "\n",
    "\"\"\""
   ]
  },
  {
   "cell_type": "code",
   "execution_count": null,
   "metadata": {},
   "outputs": [],
   "source": [
    "import timeit\n",
    "import time\n",
    "\n",
    "# define the sum , and multiplication functions\n",
    "\n",
    "def sumSquares(x,y):\n",
    "    result = (x**2 + y**2)\n",
    "    return result\n",
    "\n",
    "\n"
   ]
  },
  {
   "cell_type": "code",
   "execution_count": null,
   "metadata": {},
   "outputs": [],
   "source": [
    "\"\"\"\n",
    "37. Short note on return vs yield with example \n",
    "\"\"\""
   ]
  },
  {
   "cell_type": "code",
   "execution_count": null,
   "metadata": {},
   "outputs": [],
   "source": [
    "\"\"\"\n",
    "1\tYield is generally used to convert a regular \n",
    "Python function into a generator.\n",
    "                                                            \tReturn is generally used for the end of                                                                                     the execution and “returns” the result to the caller statement.\n",
    "2\tIt replace the return of a function to suspend\n",
    " its execution without destroying local variables.\n",
    "                                                            It exits from a function and handing back a value to its caller.\n",
    "3\tIt is used when the generator returns an \n",
    "intermediate result to the caller.\t                         It is used when a function is ready to send a value.\n",
    "4\tCode written after yield statement\n",
    " execute in next function call.                             while, code written after return statement wont execute.\n",
    "\n",
    "5\tIt can run multiple times.                                It only runs single time.\n",
    "6\tYield statement function is executed from the\n",
    " last state from where the function get paused.         \tEvery function calls run the function from the start.\n",
    "\n",
    "\"\"\""
   ]
  },
  {
   "cell_type": "code",
   "execution_count": null,
   "metadata": {},
   "outputs": [],
   "source": [
    "\"\"\"\n",
    "38. WAP to get all square numbers from 1 to 100 using yield. Ex. 1, 4, 9, 16, 25, 36, 49, 64, 81, 100\n",
    "\"\"\"\n"
   ]
  },
  {
   "cell_type": "code",
   "execution_count": 41,
   "metadata": {},
   "outputs": [
    {
     "output_type": "stream",
     "name": "stdout",
     "text": [
      "014916253649648110012114416919622525628932436140044148452957662567672978484190096110241089115612251296136914441521160016811764184919362025211622092304240125002601270428092916302531363249336434813600372138443969409642254356448946244761490050415184532954765625577659296084624164006561672468897056722573967569774479218100828184648649883690259216940996049801"
     ]
    }
   ],
   "source": [
    "def g():\n",
    "    for i in range(100):\n",
    "        yield i*i\n",
    "\n",
    "g = g()\n",
    "for i in g:\n",
    "    print(str(i), end = '')"
   ]
  },
  {
   "cell_type": "code",
   "execution_count": null,
   "metadata": {},
   "outputs": [],
   "source": [
    "\"\"\"\n",
    "39. WAP to create digital clock usinf time.sleep. Clock should print the output in hh:mm:ss AM/PM format\n",
    "\"\"\""
   ]
  },
  {
   "cell_type": "code",
   "execution_count": 39,
   "metadata": {},
   "outputs": [
    {
     "output_type": "stream",
     "name": "stdout",
     "text": [
      "04:31:38 PM\n",
      "04:31:38 PM\n",
      "04:31:39 PM\n",
      "04:31:40 PM\n",
      "04:31:41 PM\n",
      "04:31:42 PM\n",
      "04:31:43 PM\n",
      "04:31:44 PM\n",
      "04:31:45 PM\n",
      "04:31:46 PM\n",
      "04:31:47 PM\n"
     ]
    }
   ],
   "source": [
    "import time\n",
    "print(str(time.strftime(\"%I:%M:%S %p\", time.localtime())))\n",
    "\n",
    "for i in range(10): \n",
    "    print(str(time.strftime(\"%I:%M:%S %p\", time.localtime())))\n",
    "    time.sleep(1)"
   ]
  },
  {
   "cell_type": "code",
   "execution_count": null,
   "metadata": {},
   "outputs": [],
   "source": [
    "\"\"\"\n",
    "40. WAP to print the number from list with pause of 5 seconds\n",
    "\"\"\""
   ]
  },
  {
   "cell_type": "code",
   "execution_count": 38,
   "metadata": {},
   "outputs": [
    {
     "output_type": "stream",
     "name": "stdout",
     "text": [
      "Starting at: Fri May 21 16:31:15 2021\n",
      "Stops at: Fri May 21 16:31:23 2021\n"
     ]
    }
   ],
   "source": [
    "import time\n",
    " \n",
    "num = input('Pause for how many seconds: ')\n",
    "print('Starting at: '+str(time.ctime()))\n",
    "time.sleep(float(num))\n",
    "print('Stops at: '+str(time.ctime()))"
   ]
  },
  {
   "cell_type": "code",
   "execution_count": null,
   "metadata": {},
   "outputs": [],
   "source": [
    "\"\"\"\n",
    "41. WAP to create the queue using collections.dequeue and perform all the queue operations like append, popleft \n",
    "\"\"\"\n"
   ]
  },
  {
   "cell_type": "code",
   "execution_count": 36,
   "metadata": {},
   "outputs": [
    {
     "output_type": "stream",
     "name": "stdout",
     "text": [
      "deque([1, 5, 1, 5, 12, 1, 1, 2, 5, 17])\ndeque([5, 1, 5, 12, 1, 1, 2, 5, 17])\n1\ndeque([25, 5, 1, 5, 12, 1, 1, 2, 5, 17])\ndeque([25, 5, 1, 5, 12, 1, 1, 2, 5, 17, 100, 200, 400])\ndeque([400, 200, 100, 17, 5, 2, 1, 1, 12, 5, 1, 5, 25])\ndeque([200, 100, 400, 200, 100, 17, 5, 2, 1, 1, 12, 5, 1, 5, 25])\n"
     ]
    }
   ],
   "source": [
    "from collections import deque\n",
    "numbers = deque()\n",
    "\n",
    "numbers.append(1)\n",
    "numbers.append(5)\n",
    "numbers.append(1)\n",
    "numbers.append(5)\n",
    "numbers.append(12)\n",
    "numbers.append(1)\n",
    "numbers.append(1)\n",
    "numbers.append(2)\n",
    "numbers.append(5)\n",
    "numbers.append(17)\n",
    "numbers.append(1)\n",
    "\n",
    "numbers.pop()\n",
    "print(str(numbers)) \n",
    "\n",
    "numbers.popleft()\n",
    "print(str(numbers))\n",
    "\n",
    "print(str(numbers.count(12)))\n",
    "\n",
    "numbers.appendleft(25)\n",
    "print(str(numbers))\n",
    "\n",
    "numbers.extend([100,200,400])\n",
    "print(str(numbers))\n",
    "\n",
    "numbers.reverse()\n",
    "print(str(numbers))\n",
    "\n",
    "numbers.extendleft([100,200])\n",
    "print(str(numbers))"
   ]
  },
  {
   "cell_type": "code",
   "execution_count": null,
   "metadata": {},
   "outputs": [],
   "source": [
    "\"\"\"\n",
    "42. WAP to create queue using using queue.Queue andperform below operations on it\n",
    "\t1. maxsize\n",
    "\t2. empty()\n",
    "\t3. full()\n",
    "\t4. get()\n",
    "\t5. get_nowait()\n",
    "\t6. put(item)\n",
    "\t7. put_nowait(item)\n",
    "\t8. qsize()\n",
    "    \"\"\""
   ]
  },
  {
   "cell_type": "code",
   "execution_count": 35,
   "metadata": {},
   "outputs": [
    {
     "output_type": "stream",
     "name": "stdout",
     "text": [
      "True\nNone\n4\nNone\n0\nFalse\n"
     ]
    }
   ],
   "source": [
    "from queue import Queue\n",
    "\n",
    "q = Queue()\n",
    "\n",
    "\n",
    "print(str(q.empty())) # returns True if empty, False otherwise\n",
    "print(str(q.put(4)))\n",
    "print(str(q.get()))\n",
    "print(str(q.put_nowait(6)))\n",
    "print(str(q.maxsize))\n",
    "print(str(q.full()))"
   ]
  },
  {
   "cell_type": "code",
   "execution_count": null,
   "metadata": {},
   "outputs": [],
   "source": [
    "\"\"\"\n",
    "43. What is Python Counter and why to use it\n",
    "\"\"\""
   ]
  },
  {
   "cell_type": "code",
   "execution_count": null,
   "metadata": {},
   "outputs": [],
   "source": [
    "\"\"\"\n",
    "Counter class is a special type of object data-set provided with the collections module in Python3. Collections module provides the user with specialized container datatypes, thus, providing an alternative to Python’s general purpose built-ins like dictionaries, lists and tuples.\n",
    "\n",
    "Counter is a sub-class which is used to count hashable objects. It implicitly creates a hash table of an iterable when invoked.\n",
    "\n",
    "elements() is one of the functions of Counter class, when invoked on the Counter object will return an itertool of all the known elements in the Counter object.\n",
    "\"\"\"\n"
   ]
  },
  {
   "cell_type": "code",
   "execution_count": 11,
   "metadata": {},
   "outputs": [
    {
     "output_type": "execute_result",
     "data": {
      "text/plain": [
       "\"\\n44. Using Counter: WAP to get the count of number of occurences of alphabet present in the list1 = ['x','y','z','x','x','x','y', 'z'] hint : from collections import Counter\\n\""
      ]
     },
     "metadata": {},
     "execution_count": 11
    }
   ],
   "source": [
    "\"\"\"\n",
    "44. Using Counter: WAP to get the count of number of occurences of alphabet present in the list1 = ['x','y','z','x','x','x','y', 'z'] hint : from collections import Counter\n",
    "\"\"\""
   ]
  },
  {
   "cell_type": "code",
   "execution_count": 12,
   "metadata": {},
   "outputs": [
    {
     "output_type": "stream",
     "name": "stdout",
     "text": [
      "Counter({'x': 4, 'y': 2, 'z': 2})\n"
     ]
    }
   ],
   "source": [
    "from collections import Counter\n",
    "list1 = ['x','y','z','x','x','x','y', 'z']\n",
    "print(Counter(list1))"
   ]
  },
  {
   "cell_type": "code",
   "execution_count": null,
   "metadata": {},
   "outputs": [],
   "source": [
    "\"\"\"\n",
    "45. What will be the output of below \n",
    "\t\n",
    "\t1. \tmy_str = \"Welcome to python world!\"\n",
    "\t\tCounter(my_str)\n",
    "\n",
    "\t2. \tdict1 =  {'x': 4, 'y': 2, 'z': 2, 'z': 2}\n",
    "\t\tCounter(dict1)\n",
    "\t\t\n",
    "\t3.  tuple1 = ('x','y','z','x','x','x','y','z')\n",
    "\t\tCounter(tuple1)\n",
    "  \"\"\"      "
   ]
  },
  {
   "cell_type": "code",
   "execution_count": 10,
   "metadata": {},
   "outputs": [
    {
     "output_type": "execute_result",
     "data": {
      "text/plain": [
       "Counter({'x': 4, 'y': 2, 'z': 2})"
      ]
     },
     "metadata": {},
     "execution_count": 10
    }
   ],
   "source": [
    "Counter({'o': 4, ' ': 3, 'e': 2, 'l': 2, 't': 2, 'W': 1, 'c': 1, 'm': 1, 'p': 1, 'y': 1, 'h': 1, 'n': 1, 'w': 1, 'r': 1, 'd': 1, '!': 1})\n",
    "Counter({'x': 4, 'y': 2, 'z': 2})\n",
    "Counter({'x': 4, 'y': 2, 'z': 2})"
   ]
  },
  {
   "cell_type": "code",
   "execution_count": null,
   "metadata": {},
   "outputs": [],
   "source": [
    "\"\"\"\n",
    "46. Update the value of the counter \n",
    "\t\t_count = Counter()\n",
    "\t\t_count.update('Welcome to python world!')\n",
    "\t\tprint(_count)\n",
    "\"\"\""
   ]
  },
  {
   "cell_type": "code",
   "execution_count": 15,
   "metadata": {},
   "outputs": [
    {
     "output_type": "stream",
     "name": "stdout",
     "text": [
      "Counter({'o': 4, ' ': 3, 'e': 2, 'l': 2, 't': 2, 'W': 1, 'c': 1, 'm': 1, 'p': 1, 'y': 1, 'h': 1, 'n': 1, 'w': 1, 'r': 1, 'd': 1, '!': 1})\n"
     ]
    }
   ],
   "source": [
    "_count = Counter()\n",
    "_count.update('Welcome to python world!')\n",
    "print(_count)"
   ]
  },
  {
   "cell_type": "code",
   "execution_count": null,
   "metadata": {},
   "outputs": [],
   "source": [
    "\"\"\"\n",
    "47. WAP to print the counter generated in Que 43 sequentially \n",
    "\n",
    "\"\"\""
   ]
  },
  {
   "cell_type": "code",
   "execution_count": null,
   "metadata": {},
   "outputs": [],
   "source": []
  },
  {
   "cell_type": "code",
   "execution_count": null,
   "metadata": {},
   "outputs": [],
   "source": [
    "\"\"\"\n",
    "48. WAP to delete element from counter generated in Que 43 \n",
    "\"\"\"\""
   ]
  },
  {
   "cell_type": "code",
   "execution_count": 9,
   "metadata": {},
   "outputs": [
    {
     "output_type": "stream",
     "name": "stdout",
     "text": [
      "Counter({'y': 2, 'z': 2})\n"
     ]
    }
   ],
   "source": [
    "from collections import Counter\n",
    "list1 = ['x','y','z','x','x','x','y', 'z']\n",
    "c=Counter(list1)\n",
    "del c['x']\n",
    "print(c)"
   ]
  },
  {
   "source": [
    "\"\"\"\n",
    "49. SUppoer we have two counter mentioned below \n",
    "counter1 =  Counter({'x': 4, 'y': 2, 'z': -2})\n",
    "counter2 = Counter({'x1': -12, 'y': 5, 'z':4 })\n",
    "Perform below operations on the conters\n",
    "\t1. Addiotion\n",
    "\t2. Subtraction\n",
    "\t3. Intersection\n",
    "\t4. Union\n",
    "    \"\"\""
   ],
   "cell_type": "code",
   "metadata": {},
   "execution_count": null,
   "outputs": []
  },
  {
   "cell_type": "code",
   "execution_count": 8,
   "metadata": {},
   "outputs": [
    {
     "output_type": "stream",
     "name": "stdout",
     "text": [
      "{'y', 'x1', 'z'}\n{'x', 'y', 'z', 'x1'}\n"
     ]
    }
   ],
   "source": [
    "from collections import Counter\n",
    "counter1 =  Counter({'x': 4, 'y': 2, 'z': -2})\n",
    "counter2 = Counter({'x1': -12, 'y': 2, 'z':4 })\n",
    "\n",
    "#addition\n",
    "for i,j in counter2.items():\n",
    "    counter1[i]+=j\n",
    "\n",
    "# substraction\n",
    "for i,j in counter2.items():\n",
    "    counter1[i]-=j\n",
    "\n",
    "\n",
    "#Intersection\n",
    "print(set(counter1).intersection(set(counter2)))\n",
    "#Union\n",
    "print(set(counter1).union(set(counter2)))"
   ]
  },
  {
   "cell_type": "code",
   "execution_count": null,
   "metadata": {},
   "outputs": [],
   "source": [
    "\"\"\"\n",
    "50. WAP to get the most common elements from the counter\n",
    "\"\"\""
   ]
  },
  {
   "cell_type": "code",
   "execution_count": 7,
   "metadata": {},
   "outputs": [
    {
     "output_type": "stream",
     "name": "stdout",
     "text": [
      "x\n"
     ]
    }
   ],
   "source": [
    "from collections import Counter\n",
    "counter1 =  Counter({'x': 4, 'y': 2, 'z': -2})\n",
    "print(max(counter1,key=lambda x:counter1[x]))"
   ]
  },
  {
   "source": [
    "\"\"\"\n",
    "51. WAP to get all elements with positive value and count>0 from counter \n",
    "\"\"\""
   ],
   "cell_type": "code",
   "metadata": {},
   "execution_count": null,
   "outputs": []
  },
  {
   "cell_type": "code",
   "execution_count": 6,
   "metadata": {},
   "outputs": [
    {
     "output_type": "stream",
     "name": "stdout",
     "text": [
      "1 4\n2 3\n3 2\n5 2\n4 3\n"
     ]
    }
   ],
   "source": [
    "from collections import Counter\n",
    "count =  Counter([1,1,1,1,2,2,2,3,5,3,4,5,4,4])\n",
    "for i,j in count.items():\n",
    "    if(i>0 and j>0):\n",
    "        print(i,j)"
   ]
  },
  {
   "cell_type": "code",
   "execution_count": null,
   "metadata": {},
   "outputs": [],
   "source": [
    "\"\"\"\n",
    "52. WAP to get count of specific element from counter\n",
    "\"\"\""
   ]
  },
  {
   "cell_type": "code",
   "execution_count": 5,
   "metadata": {},
   "outputs": [
    {
     "output_type": "stream",
     "name": "stdout",
     "text": [
      "2\n"
     ]
    }
   ],
   "source": [
    "from collections import Counter\n",
    "count =  Counter([1,1,1,1,2,2,2,3,5,3,4,5,4,4])\n",
    "print(count[3])"
   ]
  },
  {
   "cell_type": "code",
   "execution_count": null,
   "metadata": {},
   "outputs": [],
   "source": [
    "\"\"\"\n",
    "53. WAP to set count of specific element from counter \n",
    "\"\"\""
   ]
  },
  {
   "cell_type": "code",
   "execution_count": 4,
   "metadata": {},
   "outputs": [
    {
     "output_type": "stream",
     "name": "stdout",
     "text": [
      "Counter({3: 10, 1: 4, 2: 3, 4: 3, 5: 2})\n"
     ]
    }
   ],
   "source": [
    "from collections import Counter\n",
    "count =  Counter([1,1,1,1,2,2,2,3,5,3,4,5,4,4])\n",
    "count[3]=10\n",
    "print(count)"
   ]
  },
  {
   "cell_type": "code",
   "execution_count": null,
   "metadata": {},
   "outputs": [],
   "source": [
    "\"\"\"\n",
    "54. Iterate on the below using enumerate() function\n",
    "\tmy_list = [\"eat\",\"sleep\",\"repeat\"]\n",
    "\tmy_str = \"chistats\"\n",
    "\tmy_tuple = (\"A\", \"B\", \"C\", \"D\", \"E\")\n",
    "\tmy_dict = {\"a\": \"PHP\", \"b\":\"JAVA\", \"c\":\"PYTHON\", \"d\":\"NODEJS\"}\n",
    "\tExplain the output of the enumerator\n",
    "    \"\"\""
   ]
  },
  {
   "cell_type": "code",
   "execution_count": 13,
   "metadata": {},
   "outputs": [
    {
     "output_type": "stream",
     "name": "stdout",
     "text": [
      "(0, 'eat')\n(1, 'sleep')\n(2, 'repeat')\n(0, 'c')\n(1, 'h')\n(2, 'i')\n(3, 's')\n(4, 't')\n(5, 'a')\n(6, 't')\n(7, 's')\n(0, 'A')\n(1, 'B')\n(2, 'C')\n(3, 'D')\n(4, 'E')\n(0, 'a')\n(1, 'b')\n(2, 'c')\n(3, 'd')\n"
     ]
    }
   ],
   "source": [
    "my_list = [\"eat\",\"sleep\",\"repeat\"]\n",
    "my_str = \"chistats\"\n",
    "my_tuple = (\"A\", \"B\", \"C\", \"D\", \"E\")\n",
    "my_dict = {\"a\": \"PHP\", \"b\":\"JAVA\", \"c\":\"PYTHON\", \"d\":\"NODEJS\"}\n",
    "\n",
    "for i in enumerate(my_list):\n",
    "    print(i)\n",
    "for i in enumerate(my_str):\n",
    "    print(i)\n",
    "for i in enumerate(my_tuple):\n",
    "    print(i)\n",
    "for i in enumerate(my_dict):\n",
    "    print(i)"
   ]
  },
  {
   "cell_type": "code",
   "execution_count": null,
   "metadata": {},
   "outputs": [],
   "source": []
  }
 ]
}
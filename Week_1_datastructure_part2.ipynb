{
 "metadata": {
  "language_info": {
   "codemirror_mode": {
    "name": "ipython",
    "version": 3
   },
   "file_extension": ".py",
   "mimetype": "text/x-python",
   "name": "python",
   "nbconvert_exporter": "python",
   "pygments_lexer": "ipython3",
   "version": "3.7.1"
  },
  "orig_nbformat": 2,
  "kernelspec": {
   "name": "python37132bit43e4c69861cc4e7185d7daf0ab1b2b94",
   "display_name": "Python 3.7.1 32-bit"
  },
  "metadata": {
   "interpreter": {
    "hash": "7f9af6948edc73ec62fe2f0271d96474fa545d34db26098f2fa4cb2eea27f98c"
   }
  }
 },
 "nbformat": 4,
 "nbformat_minor": 2,
 "cells": [
  {
   "source": [
    "\"\"\"1. WAP to create the list perform below operaions on it\n",
    "\t1. print all elements from list by traversing \n",
    "\t2. get maximum from list\n",
    "\t3. get minimum from list\n",
    "\t4. reverse the list\n",
    "\t5. get sum of all the elements from list\n",
    "\t6. get average of all elements from list\n",
    "\t7. sort the list\n",
    "\t8. remove duplicates\n",
    "\t9. check if list is empty or not\n",
    "\t10. clone or copy the list\n",
    "\t11. add new elements (append and extend)\n",
    "\t12. remove elements\n",
    "\t13. update elements\n",
    "\t14. retrieve element from 3rd and 5th position\n",
    "\t15. create another list and compare with list created for earlier questions\n",
    "\t16. shuffle the list and print all elements\n",
    "\t17. print element and index of that element\n",
    "\t18. concat two lists\n",
    "\t19. convert list t array (without using Numpy)\n",
    "\t20. get unique elements from list\n",
    "\t21. pop first element from list\n",
    "\t22. get index of the 1st matching element\n",
    "\t23. remove all elements from a list\n",
    "\t24. check whether list containf specific element or not\n",
    "\t25. check whther element is member of list of not\n",
    "\t26. get lenght of list\n",
    "\t27. insert element in sorted list and maintain order\n",
    "\t28. access last three elements using slice operation\"\"\""
   ],
   "cell_type": "code",
   "metadata": {},
   "execution_count": null,
   "outputs": []
  },
  {
   "cell_type": "code",
   "execution_count": 128,
   "metadata": {},
   "outputs": [
    {
     "output_type": "stream",
     "name": "stdout",
     "text": [
      "1 2 33 43 54 62 7 8 1 2 "
     ]
    }
   ],
   "source": [
    "a = [1,2,33,43,54,62,7,8,1,2]\n",
    "\n",
    "for i in a:\n",
    "    print(i, end= \" \")"
   ]
  },
  {
   "cell_type": "code",
   "execution_count": 14,
   "metadata": {},
   "outputs": [
    {
     "output_type": "stream",
     "name": "stdout",
     "text": [
      "62\n"
     ]
    }
   ],
   "source": [
    "print(max(a))"
   ]
  },
  {
   "cell_type": "code",
   "execution_count": 15,
   "metadata": {},
   "outputs": [
    {
     "output_type": "stream",
     "name": "stdout",
     "text": [
      "1\n"
     ]
    }
   ],
   "source": [
    "print(min(a))"
   ]
  },
  {
   "cell_type": "code",
   "execution_count": 16,
   "metadata": {},
   "outputs": [
    {
     "output_type": "stream",
     "name": "stdout",
     "text": [
      "213\n"
     ]
    }
   ],
   "source": [
    "print(sum(a))\n"
   ]
  },
  {
   "cell_type": "code",
   "execution_count": 17,
   "metadata": {},
   "outputs": [
    {
     "output_type": "stream",
     "name": "stdout",
     "text": [
      "21.3\n"
     ]
    }
   ],
   "source": [
    "print(sum(a)/len(a))\n"
   ]
  },
  {
   "cell_type": "code",
   "execution_count": 9,
   "metadata": {},
   "outputs": [
    {
     "output_type": "stream",
     "name": "stdout",
     "text": [
      "[1, 2, 7, 8, 33, 43, 54, 62]\n"
     ]
    }
   ],
   "source": [
    "a.sort()\n",
    "print(a)"
   ]
  },
  {
   "cell_type": "code",
   "execution_count": 12,
   "metadata": {},
   "outputs": [
    {
     "output_type": "stream",
     "name": "stdout",
     "text": [
      "[1, 2, 33, 7, 8, 43, 54, 62]\n"
     ]
    }
   ],
   "source": [
    "dupList = set(a)\n",
    "print(list(dupList))"
   ]
  },
  {
   "cell_type": "code",
   "execution_count": 20,
   "metadata": {},
   "outputs": [
    {
     "output_type": "stream",
     "name": "stdout",
     "text": [
      "not empty\n"
     ]
    }
   ],
   "source": [
    "if len(a) != 0:\n",
    "    print(\"not empty\")\n",
    "else:\n",
    "    print(\"empty\")"
   ]
  },
  {
   "cell_type": "code",
   "execution_count": 21,
   "metadata": {},
   "outputs": [
    {
     "output_type": "stream",
     "name": "stdout",
     "text": [
      "[1, 1, 2, 2, 7, 8, 33, 43, 54, 62]\n[1, 1, 2, 2, 7, 8, 33, 43, 54, 62]\n"
     ]
    }
   ],
   "source": [
    "cloneList = list(a)\n",
    "cloneList1 = a[:]\n",
    "print(cloneList)\n",
    "print(cloneList1)"
   ]
  },
  {
   "cell_type": "code",
   "execution_count": 44,
   "metadata": {},
   "outputs": [
    {
     "output_type": "stream",
     "name": "stdout",
     "text": [
      "[1, 1, 2, 2, 7, 8, 33, 43, 54, 62, 100, 100, 100, 100, 100, 100, 100, 100, 100, 100, 100]\n[1, 1, 2, 2, 7, 8, 33, 43, 54, 62, 100, 100, 100, 100, 100, 100]\n[1, 1, 2, 2, 7, 8, 33, 43, 54, 62, 100, 100, 100, 100, 100, 100, 100]\n"
     ]
    }
   ],
   "source": [
    "a.append(100)\n",
    "print(a)\n",
    "print(cloneList1)\n",
    "cloneList1.extend([100])\n",
    "print(cloneList1)"
   ]
  },
  {
   "cell_type": "code",
   "execution_count": 56,
   "metadata": {},
   "outputs": [
    {
     "output_type": "stream",
     "name": "stdout",
     "text": [
      "[1, 1, 2, 2, 7, 8, 33, 43, 54, 62]\n"
     ]
    }
   ],
   "source": [
    "a.remove(100)\n",
    "print(a)"
   ]
  },
  {
   "cell_type": "code",
   "execution_count": 67,
   "metadata": {},
   "outputs": [
    {
     "output_type": "stream",
     "name": "stdout",
     "text": [
      "[1, 1, 2, 2, 7, 8, 33, 43, 54, 50]\n"
     ]
    }
   ],
   "source": [
    "for i in range(len(a)):\n",
    "    if a[i] == 62:\n",
    "        a[i] = 50\n",
    "print(a)"
   ]
  },
  {
   "cell_type": "code",
   "execution_count": 69,
   "metadata": {},
   "outputs": [
    {
     "output_type": "stream",
     "name": "stdout",
     "text": [
      "2\n7\n"
     ]
    }
   ],
   "source": [
    "print(a[2])\n",
    "print(a[4])"
   ]
  },
  {
   "cell_type": "code",
   "execution_count": 75,
   "metadata": {},
   "outputs": [
    {
     "output_type": "stream",
     "name": "stdout",
     "text": [
      "not equal\n"
     ]
    }
   ],
   "source": [
    "if a == cloneList:\n",
    "    print(\"equal\")\n",
    "else:\n",
    "    print(\"not equal\")"
   ]
  },
  {
   "cell_type": "code",
   "execution_count": 76,
   "metadata": {},
   "outputs": [
    {
     "output_type": "stream",
     "name": "stdout",
     "text": [
      "[54, 1, 7, 50, 2, 33, 8, 43, 2, 1]\n"
     ]
    }
   ],
   "source": [
    "import random\n",
    "random.shuffle(a)\n",
    "print(a)"
   ]
  },
  {
   "cell_type": "code",
   "execution_count": 77,
   "metadata": {},
   "outputs": [
    {
     "output_type": "stream",
     "name": "stdout",
     "text": [
      "0 54\n1 1\n2 7\n3 50\n4 2\n5 33\n6 8\n7 43\n8 2\n9 1\n"
     ]
    }
   ],
   "source": [
    "for i in range(len(a)):\n",
    "    print( i , a[i])"
   ]
  },
  {
   "cell_type": "code",
   "execution_count": 80,
   "metadata": {},
   "outputs": [
    {
     "output_type": "stream",
     "name": "stdout",
     "text": [
      "[54, 1, 7, 50, 2, 33, 8, 43, 2, 1, 54, 1, 7, 50, 2, 33, 8, 43, 2, 1]\n"
     ]
    }
   ],
   "source": [
    "print(a+a)\n"
   ]
  },
  {
   "cell_type": "code",
   "execution_count": 82,
   "metadata": {},
   "outputs": [
    {
     "output_type": "stream",
     "name": "stdout",
     "text": [
      "array('i', [54, 1, 7, 50, 2, 33, 8, 43, 2, 1])\n"
     ]
    }
   ],
   "source": [
    "from array import *\n",
    "\n",
    "print(array('i',a))"
   ]
  },
  {
   "cell_type": "code",
   "execution_count": 84,
   "metadata": {},
   "outputs": [
    {
     "output_type": "stream",
     "name": "stdout",
     "text": [
      "[1, 7, 50, 2, 33, 8, 43, 2, 1]\n[7, 50, 2, 33, 8, 43, 2, 1]\n"
     ]
    }
   ],
   "source": [
    "print(a)\n",
    "a.pop(0)\n",
    "print(a)"
   ]
  },
  {
   "cell_type": "code",
   "execution_count": 101,
   "metadata": {},
   "outputs": [
    {
     "output_type": "stream",
     "name": "stdout",
     "text": [
      "[43, 2, 1]\n"
     ]
    }
   ],
   "source": [
    "print(a[-3:])"
   ]
  },
  {
   "cell_type": "code",
   "execution_count": 102,
   "metadata": {},
   "outputs": [
    {
     "output_type": "stream",
     "name": "stdout",
     "text": [
      "The original list is : [1, 2, 3, 6, 7]\nThe list after insertion is : [1, 2, 3, 5, 6, 7]\n"
     ]
    }
   ],
   "source": [
    "import bisect\n",
    "test_list = [1, 2, 3, 6, 7]\n",
    "print (\"The original list is : \" + str(test_list))\n",
    "k = 5\n",
    "bisect.insort(test_list, k) \n",
    "print (\"The list after insertion is : \" +  str(test_list))"
   ]
  },
  {
   "source": [
    "\"\"\"2. create two losts and perform below operations \n",
    "\t1. concatination\n",
    "\t2. repetations\n",
    "\t\"\"\"\n"
   ],
   "cell_type": "code",
   "metadata": {},
   "execution_count": null,
   "outputs": []
  },
  {
   "cell_type": "code",
   "execution_count": 119,
   "metadata": {},
   "outputs": [
    {
     "output_type": "stream",
     "name": "stdout",
     "text": [
      "[1, 1, 2, 2, 7, 8, 33, 43, 54, 62, 100, 100, 100, 100, 100, 100, 100, 100, 100, 100]\n"
     ]
    }
   ],
   "source": [
    "\n",
    "print(a+cloneList)"
   ]
  },
  {
   "cell_type": "code",
   "execution_count": 122,
   "metadata": {},
   "outputs": [
    {
     "output_type": "stream",
     "name": "stdout",
     "text": [
      "[1, 2, 3, 4, 5, 1, 2, 3, 4, 5]\n"
     ]
    }
   ],
   "source": [
    "rep = [1,2,3,4,5]*2\n",
    "print(rep)"
   ]
  },
  {
   "cell_type": "code",
   "execution_count": 123,
   "metadata": {},
   "outputs": [],
   "source": [
    "\"\"\"\n",
    "3. WAP to retriev elemnts from random index\n",
    "\n",
    "\"\"\""
   ]
  },
  {
   "cell_type": "code",
   "execution_count": 136,
   "metadata": {},
   "outputs": [
    {
     "output_type": "stream",
     "name": "stdout",
     "text": [
      "10\n[1, 2, 33, 43, 54, 62, 7, 8, 1, 2]\n8\n"
     ]
    }
   ],
   "source": [
    "import random\n",
    "l = len(a)\n",
    "print(l)\n",
    "print(a)\n",
    "ranIndex = random.randint(0,len(a)-1)\n",
    "print(a[ranIndex])\n"
   ]
  },
  {
   "cell_type": "code",
   "execution_count": null,
   "metadata": {},
   "outputs": [],
   "source": [
    "\"\"\"\n",
    "4. WAP to generate all permutations of a list\n",
    "\"\"\""
   ]
  },
  {
   "cell_type": "code",
   "execution_count": 1,
   "metadata": {},
   "outputs": [
    {
     "output_type": "stream",
     "name": "stdout",
     "text": [
      "(1, 2, 3)\n(1, 3, 2)\n(2, 1, 3)\n(2, 3, 1)\n(3, 1, 2)\n(3, 2, 1)\n"
     ]
    }
   ],
   "source": [
    "from itertools import permutations\n",
    "\n",
    "permute = permutations([1,2,3])\n",
    "for i in list(permute):\n",
    "    print(i)"
   ]
  },
  {
   "cell_type": "code",
   "execution_count": null,
   "metadata": {},
   "outputs": [],
   "source": [
    "\"\"\"\n",
    "5. WAP to get difference between two lists\n",
    "\"\"\"\n"
   ]
  },
  {
   "cell_type": "code",
   "execution_count": 2,
   "metadata": {},
   "outputs": [
    {
     "output_type": "stream",
     "name": "stdout",
     "text": [
      "[9, 3, 5, 8, 2, 4, 6]\n"
     ]
    }
   ],
   "source": [
    "list1 = [1, 3, 5, 7, 9]\n",
    "list2=[1, 2, 4, 6, 7, 8]\n",
    "diff_list1_list2 = list(set(list1) - set(list2))\n",
    "diff_list2_list1 = list(set(list2) - set(list1))\n",
    "total_diff = diff_list1_list2 + diff_list2_list1\n",
    "print(total_diff)\n"
   ]
  },
  {
   "cell_type": "code",
   "execution_count": null,
   "metadata": {},
   "outputs": [],
   "source": [
    "\"\"\"6. WAP to convert the list of string to chars\n",
    "\"\"\"\n"
   ]
  },
  {
   "cell_type": "code",
   "execution_count": 14,
   "metadata": {},
   "outputs": [
    {
     "output_type": "stream",
     "name": "stdout",
     "text": [
      "['K', 'u', 'n', 'a', 'l', ' ', 'A', 'g', 'r', 'a', 'w', 'a', 'l']\n['K', 'u', 'n', 'a', 'l', 'A', 'g', 'r', 'a', 'w', 'a', 'l']\n"
     ]
    }
   ],
   "source": [
    "myStr = \"Kunal Agrawal\"\n",
    "li = list(myStr.split(\" \"))\n",
    "print(list(myStr))\n",
    "li1, li2 = li[0], li[1]\n",
    "print(list(li1+li2))"
   ]
  },
  {
   "cell_type": "code",
   "execution_count": null,
   "metadata": {},
   "outputs": [],
   "source": [
    "\"\"\"\n",
    "7. WAP to convert Shallow list => a list of lists => [[a,b,c],[d,e,f],[g,h,l]] to flat list [a,b,c,d,e,f,g,h,l]\n",
    "\n",
    "\"\"\"\n"
   ]
  },
  {
   "cell_type": "code",
   "execution_count": 21,
   "metadata": {},
   "outputs": [
    {
     "output_type": "stream",
     "name": "stdout",
     "text": [
      "['a', 'b', 'c', 'd', 'e', 'f', 'g', 'h', 'l']\n"
     ]
    }
   ],
   "source": [
    "myList =  [['a','b','c'],['d','e','f'],['g','h','l']]\n",
    "mainList = []\n",
    "for subList in myList:\n",
    "    for char in subList:\n",
    "        mainList.append(char)\n",
    "print(mainList)"
   ]
  },
  {
   "cell_type": "code",
   "execution_count": null,
   "metadata": {},
   "outputs": [],
   "source": [
    "\"\"\"\n",
    "8. WAP check whether two lists are circularly identical\n",
    "\n",
    "\"\"\"\n"
   ]
  },
  {
   "cell_type": "code",
   "execution_count": null,
   "metadata": {},
   "outputs": [],
   "source": []
  },
  {
   "cell_type": "code",
   "execution_count": null,
   "metadata": {},
   "outputs": [],
   "source": [
    "\"\"\"\n",
    "9. WAP to get second smallest number from list\n",
    "\"\"\"\n"
   ]
  },
  {
   "cell_type": "code",
   "execution_count": 26,
   "metadata": {},
   "outputs": [
    {
     "output_type": "stream",
     "name": "stdout",
     "text": [
      "2\n2\n"
     ]
    }
   ],
   "source": [
    " numbers = [1,2,3,4,5,5]\n",
    " m1 = m2 = float('inf')\n",
    "for x in numbers:\n",
    "    if x <= m1:\n",
    "        m1, m2 = x, m1\n",
    "    elif x < m2:\n",
    "         m2 = x\n",
    "print(m2)\n",
    "\n",
    "numbers.sort()\n",
    "print(numbers[1])"
   ]
  },
  {
   "cell_type": "code",
   "execution_count": null,
   "metadata": {},
   "outputs": [],
   "source": [
    "\"\"\"\n",
    "10 WAP iterate over more than two lists at the same time\n",
    "\"\"\"\n"
   ]
  },
  {
   "source": [
    "from itertools import chain\n",
    "test_list1 = [4, 5, 3, 6, 2]\n",
    "test_list2 = [7, 9, 10, 0]\n",
    "test_list3 = [1, 2, 30, 40]\n",
    "print(\"The paired list contents are : \")\n",
    "for ele in chain(test_list1, test_list2, test_list3):\n",
    "    print(ele, end =\" \")"
   ],
   "cell_type": "code",
   "metadata": {},
   "execution_count": 27,
   "outputs": [
    {
     "output_type": "stream",
     "name": "stdout",
     "text": [
      "The paired list contents are : \n4 5 3 6 2 7 9 10 0 1 2 30 40 "
     ]
    }
   ]
  },
  {
   "cell_type": "code",
   "execution_count": null,
   "metadata": {},
   "outputs": [],
   "source": [
    "\"\"\"\n",
    "11.WAP to find whether given string is a palindrome without using reversed() inbuilt function\n",
    "\n",
    "\"\"\""
   ]
  },
  {
   "cell_type": "code",
   "execution_count": 10,
   "metadata": {},
   "outputs": [
    {
     "output_type": "stream",
     "name": "stdout",
     "text": [
      "palindrome\n"
     ]
    }
   ],
   "source": [
    "numb = 111\n",
    "temp = numb\n",
    "sum =0\n",
    "while(numb > 0):\n",
    "    digit = numb % 10\n",
    "    sum = sum*10 + digit\n",
    "    numb = numb // 10\n",
    "if sum == temp:\n",
    "    print(\"palindrome\")\n",
    "else:\n",
    "    print(\"not palindrome\")"
   ]
  },
  {
   "cell_type": "code",
   "execution_count": null,
   "metadata": {},
   "outputs": [],
   "source": [
    "\"\"\"\n",
    "12. Create a tuple and convert it to list\n",
    "\"\"\"\n"
   ]
  },
  {
   "cell_type": "code",
   "execution_count": 11,
   "metadata": {},
   "outputs": [
    {
     "output_type": "stream",
     "name": "stdout",
     "text": [
      "[1, 2, 3, 4, 5, 6]\n"
     ]
    }
   ],
   "source": [
    "tup = (1,2,3,4,5,6)\n",
    "conList = list(tup)\n",
    "print(conList)"
   ]
  },
  {
   "cell_type": "code",
   "execution_count": null,
   "metadata": {},
   "outputs": [],
   "source": [
    "\"\"\"\n",
    "13. WAP to append sequence to list\n",
    "\"\"\"\n"
   ]
  },
  {
   "cell_type": "code",
   "execution_count": 14,
   "metadata": {},
   "outputs": [
    {
     "output_type": "stream",
     "name": "stdout",
     "text": [
      "[1, 2, 3, 4, 5, 6, ['abc', 'bcd'], 'abc']\n"
     ]
    }
   ],
   "source": [
    "conList.append(\"abc\")\n",
    "print(conList)"
   ]
  },
  {
   "cell_type": "code",
   "execution_count": null,
   "metadata": {},
   "outputs": [],
   "source": [
    "\"\"\"\n",
    "14. List and explain the time complexities of below operations on list\n",
    "\n",
    "\tCopy\n",
    "\tAppend[1]\n",
    "\tPop last\n",
    "\tPop intermediate\n",
    "\tInsert\n",
    "\tGet Item\n",
    "\tSet Item\n",
    "\tDelete Item\n",
    "\tIteration\n",
    "\tGet Slice\n",
    "\tDel Slice\n",
    "\tSet Slice\n",
    "\tExtend[1]\n",
    "\tSort\n",
    "\tmin(s), max(s)\n",
    "\tGet Length"
   ]
  },
  {
   "cell_type": "code",
   "execution_count": null,
   "metadata": {},
   "outputs": [],
   "source": [
    "\"\"\"Lists:\n",
    "                               Complexity\n",
    "Operation     | Example      | Class         | Notes\n",
    "--------------+--------------+---------------+-------------------------------\n",
    "Index         | l[i]         | O(1)\t     |\n",
    "Store         | l[i] = 0     | O(1)\t     |\n",
    "Length        | len(l)       | O(1)\t     |\n",
    "Append        | l.append(5)  | O(1)\t     | mostly: ICS-46 covers details\n",
    "Pop\t      | l.pop()      | O(1)\t     | same as l.pop(-1), popping at end\n",
    "Clear         | l.clear()    | O(1)\t     | similar to l = []\n",
    "\n",
    "Slice         | l[a:b]       | O(b-a)\t     | l[1:5]:O(l)/l[:]:O(len(l)-0)=O(N)\n",
    "Extend        | l.extend(...)| O(len(...))   | depends only on len of extension\n",
    "Construction  | list(...)    | O(len(...))   | depends on length of ... iterable\n",
    "\n",
    "check ==, !=  | l1 == l2     | O(N)          |\n",
    "Insert        | l[a:b] = ... | O(N)\t     | \n",
    "Delete        | del l[i]     | O(N)\t     | depends on i; O(N) in worst case\n",
    "Containment   | x in/not in l| O(N)\t     | linearly searches list \n",
    "Copy          | l.copy()     | O(N)\t     | Same as l[:] which is O(N)\n",
    "Remove        | l.remove(...)| O(N)\t     | \n",
    "Pop\t      | l.pop(i)     | O(N)\t     | O(N-i): l.pop(0):O(N) (see above)\n",
    "Extreme value | min(l)/max(l)| O(N)\t     | linearly searches list for value\n",
    "Reverse\t      | l.reverse()  | O(N)\t     |\n",
    "Iteration     | for v in l:  | O(N)          | Worst: no return/break in loop\n",
    "\n",
    "Sort          | l.sort()     | O(N Log N)    | key/reverse mostly doesn't change\n",
    "Multiply      | k*l          | O(k N)        | 5*l is O(N): len(l)*l is O(N**2)\n",
    "\n",
    "Tuples support all operations that do not mutate the data structure (and they\n",
    "have the same complexity classes).\n",
    "\n",
    "\"\"\""
   ]
  },
  {
   "cell_type": "code",
   "execution_count": null,
   "metadata": {},
   "outputs": [],
   "source": [
    "\"\"\"\n",
    "15. WAP to make all strings from a given list equal by replacing minimum number of characters.\n",
    "\"\"\""
   ]
  },
  {
   "cell_type": "code",
   "execution_count": null,
   "metadata": {},
   "outputs": [],
   "source": []
  },
  {
   "cell_type": "code",
   "execution_count": null,
   "metadata": {},
   "outputs": [],
   "source": [
    "\"\"\"16. Given two list of Holes and Balls consisting of N and M integers respectively, denoting the diameter of holes and balls respectively. M number of balls are made to roll from A to B on a sloping surface with N holes, each having different depth.\n",
    "The task is to find the eventual position of each ball in the order of the ball released considering the following:\n",
    "\t- A ball will fall into a hole if its diameter is less than or equal to the diameter of the hole.\n",
    "\t- A hole Hi will become full if i numbers of balls fall into it.\n",
    "\t- If a hole is full, then no more balls fall into it.\n",
    "\t- A ball will reach B from A, if and only if it is not falling into any one of the holes.\n",
    "\t- If a ball is in hole Pi, then its position is i. If a ball reached the bottom point B, then take its position as 0.\n",
    "\t\n",
    "Explanation:\n",
    "\tBall of diameter 20 will fall into the hole H1 and the hole H1 will become full.\n",
    "\tBalls with diameter 15, 7 and 10 will reach bottom, since the hole H1 is full and diameters of holes H2 and H3 are less than the diameters of the balls.\n",
    "\tBalls with diameters 5, 4 and 2 will fall into the hole H3.\n",
    "\tBall with diameter 1 will fall into the hole H2 since the hole H3 is already full.\n",
    "\tBall with diameter 3 will fall into hole H2.\n",
    "\tBalls with diameters 6, and 8 will reach the bottom point B.\n",
    "\tThe position of ball 20 is 1 because it is in hole H1.\n",
    "\tPositions of ball 15, 7, 10, 3, 6, and 8 are 0 because they reached the bottom point B.\n",
    "\tTherefore, the balls with diameter 5, 4 and 2 are in the 3rd hole H3, the ball with diameter 1 and 3 are in the 2nd hole H2.\n",
    "\t\n",
    "\tInput: H[] = {20, 15, 10, 5, 25}, B[] = {5, 10, 15, 20, 25, 30, 4, 9, 14, 19}\n",
    "\tOutput: 5 5 5 5 5 0 4 3 2 1\n",
    "\"\"\"\n"
   ]
  },
  {
   "cell_type": "code",
   "execution_count": 1,
   "metadata": {},
   "outputs": [
    {
     "output_type": "stream",
     "name": "stdout",
     "text": [
      "[5, 5, 5, 5, 5, 0, 4, 3, 2, 1]\n"
     ]
    }
   ],
   "source": [
    "def find(h,b):\n",
    "    m=len(h)\n",
    "    n=len(b)\n",
    "    possible=[i for i in range(1,m+1)]\n",
    "    retval=[0]*n\n",
    "    for ind,i in enumerate(b):\n",
    "        for j in range(m-1,-1,-1):\n",
    "            if(possible[j] and i<=h[j]):\n",
    "                possible[j]-=1\n",
    "                retval[ind]=j+1\n",
    "                break\n",
    "    return retval\n",
    "\n",
    "print(find([20, 15, 10, 5, 25],[5, 10, 15, 20, 25, 30, 4, 9, 14, 19]))"
   ]
  },
  {
   "cell_type": "code",
   "execution_count": null,
   "metadata": {},
   "outputs": [],
   "source": [
    "\"\"\"\n",
    "17.WAP to extract elements with Frequency greater than K\n",
    "\"\"\""
   ]
  },
  {
   "cell_type": "code",
   "execution_count": 20,
   "metadata": {},
   "outputs": [
    {
     "output_type": "stream",
     "name": "stdout",
     "text": [
      "[4, 3]\n[4, 3]\n"
     ]
    }
   ],
   "source": [
    "# method 1\n",
    "test_list = [4, 6, 4, 3, 3, 4, 3, 7, 8, 8]\n",
    "res = []\n",
    "k = 2 \n",
    "for i in test_list:\n",
    "    freq = test_list.count(i)\n",
    "    if freq > k and i not in res:\n",
    "        res.append(i)\n",
    "print(res)\n",
    "\n",
    "# method 2\n",
    "from collections import Counter\n",
    "\n",
    "rest = [ele for ele, cnt in Counter(test_list).items() if cnt > k]\n",
    "print(rest)"
   ]
  },
  {
   "cell_type": "code",
   "execution_count": null,
   "metadata": {},
   "outputs": [],
   "source": [
    "\"\"\"\n",
    "18. WAP to extract elements with equal frequency as value\n",
    "Input : test_list = [4, 3, 2, 2, 3, 4, 1, 3, 2, 4, 4] \n",
    "Output : [1, 3, 4] \n",
    "Explanation : All elements occur equal times as their value.\n",
    "\"\"\"\n"
   ]
  },
  {
   "cell_type": "code",
   "execution_count": 24,
   "metadata": {},
   "outputs": [
    {
     "output_type": "stream",
     "name": "stdout",
     "text": [
      "The original list is : [4, 6, 4, 3, 3, 4, 3, 7, 8, 8]\nFiltered elements : [3]\n"
     ]
    }
   ],
   "source": [
    " \n",
    "print(\"The original list is : \" + str(test_list))\n",
    "freq = list(set([ele for ele in test_list if test_list.count(ele) == ele]))\n",
    "print(\"Filtered elements : \" + str(freq))"
   ]
  },
  {
   "cell_type": "code",
   "execution_count": null,
   "metadata": {},
   "outputs": [],
   "source": [
    "\"\"\"\n",
    "19. Create the nested list and extract elements of same index\n",
    "\"\"\"\n"
   ]
  },
  {
   "cell_type": "code",
   "execution_count": 12,
   "metadata": {},
   "outputs": [
    {
     "output_type": "stream",
     "name": "stdout",
     "text": [
      "2\n2\n2\n"
     ]
    }
   ],
   "source": [
    "def find2(l,ind):\n",
    "    n=len(l)\n",
    "    for i in range(n):\n",
    "        print(l[i][ind])\n",
    "find2([[1,2,3],[1,2,3],[1,2,3]],1)"
   ]
  },
  {
   "cell_type": "code",
   "execution_count": null,
   "metadata": {},
   "outputs": [],
   "source": [
    "\"\"\"\n",
    "20.WAP to update the elements from list who are greater than n (ex. elements greater than 10)\n",
    "\"\"\""
   ]
  },
  {
   "cell_type": "code",
   "execution_count": 36,
   "metadata": {},
   "outputs": [
    {
     "output_type": "stream",
     "name": "stdout",
     "text": [
      "[5, 7, 9]\n[10, 14, 18]\n"
     ]
    }
   ],
   "source": [
    "n = 3\n",
    "up = []\n",
    "myList1 = [1,3,5,7,9]\n",
    "for x in myList1:\n",
    "    if x > n:\n",
    "        up.append(x)\n",
    "print(up)\n",
    "for i in range(len(up)):\n",
    "    up[i]=up[i]*2\n",
    "print(up)"
   ]
  },
  {
   "cell_type": "code",
   "execution_count": null,
   "metadata": {},
   "outputs": [],
   "source": [
    "\"\"\"\n",
    "21. WAP to print True if any value in a list is divisible by 2, use \"any\" function \n",
    "\"\"\"\n"
   ]
  },
  {
   "cell_type": "code",
   "execution_count": 37,
   "metadata": {},
   "outputs": [
    {
     "output_type": "stream",
     "name": "stdout",
     "text": [
      "False\n"
     ]
    }
   ],
   "source": [
    "\n",
    "print(any([element for element in myList1 if element % 2 == 0]))"
   ]
  },
  {
   "cell_type": "code",
   "execution_count": null,
   "metadata": {},
   "outputs": [],
   "source": [
    "\"\"\"\n",
    "22.WAP to print True if all values in a list are negative, use \"all\" function\n",
    "\"\"\""
   ]
  },
  {
   "cell_type": "code",
   "execution_count": 51,
   "metadata": {},
   "outputs": [
    {
     "output_type": "stream",
     "name": "stdout",
     "text": [
      "True\n"
     ]
    }
   ],
   "source": [
    "negList = [-1,-2,-3,-4,-5]\n",
    "print(all([elet for elet in negList if elet < 0]))"
   ]
  },
  {
   "cell_type": "code",
   "execution_count": null,
   "metadata": {},
   "outputs": [],
   "source": [
    "\"\"\"\n",
    "23. What is diffrence between reverse and reversed\n",
    "\"\"\"\n"
   ]
  },
  {
   "cell_type": "code",
   "execution_count": null,
   "metadata": {},
   "outputs": [],
   "source": [
    "\"\"\"\n",
    " reverse() method reverses the elements of the list.\n",
    "\n",
    "The syntax of the reverse() method is:\n",
    "list.reverse()\n",
    "\n",
    "reverse() parameter\n",
    "The reverse() method doesn't take any arguments.\n",
    "\n",
    "Return Value from reverse()\n",
    "The reverse() method doesn't return any value. It updates the existing list.\n",
    "\n",
    "\n",
    "The reversed() function returns the reversed iterator of the given sequence.\n",
    "The syntax of reversed() is:\n",
    "\n",
    "reversed(seq)\n",
    "reversed() Parameters\n",
    "The reversed() function takes a single parameter:\n",
    "\n",
    "seq - the sequence to be reversed\n",
    "A sequence is an object that supports sequence protocols: __len__() and __getitem__() methods. For example, tuple, string, list, range, etc.\n",
    "\n",
    "We can also use reversed() in any object that implements __reverse__().\n",
    "\n",
    "Return value from reversed()\n",
    "\n",
    "The reversed() function returns an iterator that accesses the given sequence in the reverse order.\n"
   ]
  },
  {
   "cell_type": "code",
   "execution_count": null,
   "metadata": {},
   "outputs": [],
   "source": [
    "\"\"\"\n",
    "24. Is it pssible to sort an list of int having None in it. What will happen if we try to perform any operation on such lists.\n",
    "\"\"\"\n"
   ]
  },
  {
   "cell_type": "code",
   "execution_count": null,
   "metadata": {},
   "outputs": [],
   "source": [
    "\"\"\"\n",
    "no it is not possible to have a sort list of int having none of sorting have a comparator and comaparator cannot sort none value it will show error. "
   ]
  },
  {
   "cell_type": "code",
   "execution_count": null,
   "metadata": {},
   "outputs": [],
   "source": [
    "\"\"\"\n",
    "25. Implement stack and queue using list\n",
    "\n",
    "\"\"\""
   ]
  },
  {
   "cell_type": "code",
   "execution_count": 52,
   "metadata": {},
   "outputs": [
    {
     "output_type": "stream",
     "name": "stdout",
     "text": [
      "['A', 'B', 'C', 'D', 'E']\nE\n['A', 'B', 'C', 'D']\nD\n['A', 'B', 'C']\n"
     ]
    }
   ],
   "source": [
    "stack = [\"A\", \"B\", \"C\"]\n",
    "stack.append(\"D\")\n",
    "stack.append(\"E\")\n",
    "print(stack)\n",
    "print(stack.pop())\n",
    "print(stack)\n",
    "print(stack.pop())\n",
    "print(stack)"
   ]
  },
  {
   "cell_type": "code",
   "execution_count": 53,
   "metadata": {},
   "outputs": [
    {
     "output_type": "stream",
     "name": "stdout",
     "text": [
      "deque(['A', 'B', 'C', 'D'])\ndeque(['A', 'B', 'C', 'D', 'E'])\ndeque(['A', 'B', 'C', 'D', 'E', 'F'])\nA\nB\ndeque(['C', 'D', 'E', 'F'])\n"
     ]
    }
   ],
   "source": [
    "from collections import deque\n",
    "queue = deque([\"A\", \"B\", \"C\", \"D\"])\n",
    "print(queue)\n",
    "queue.append(\"E\")\n",
    "print(queue)\n",
    "queue.append(\"F\")\n",
    "print(queue)\n",
    "print(queue.popleft())                 \n",
    "print(queue.popleft())                 \n",
    "print(queue)"
   ]
  },
  {
   "cell_type": "code",
   "execution_count": null,
   "metadata": {},
   "outputs": [],
   "source": [
    "\"\"\"\n",
    "26. Reverse the list using slice.\n",
    "\"\"\"\n"
   ]
  },
  {
   "cell_type": "code",
   "execution_count": 58,
   "metadata": {},
   "outputs": [
    {
     "output_type": "stream",
     "name": "stdout",
     "text": [
      "[1, 3, 5, 7, 9]\n[9, 7, 5, 3, 1]\n"
     ]
    }
   ],
   "source": [
    "print(myList1)\n",
    "print(myList1[::-1])"
   ]
  },
  {
   "cell_type": "code",
   "execution_count": null,
   "metadata": {},
   "outputs": [],
   "source": [
    "\"\"\"\n",
    "27. Create tuple and perform below operations on it\n",
    "\t1. get size of tuple using getsizefo() and __sizeof__()\n",
    "\t2. access tuple using index and slice operations \n",
    "\t3. get length of tuple \n",
    "\t4. ge tcount of element \n",
    "\t5. sort the tuple in natural order\n",
    "\t6. fin min and max from tuple \n",
    "\t7. check if given element exist in the tuple or not\n",
    "    \"\"\"\n",
    "    "
   ]
  },
  {
   "cell_type": "code",
   "execution_count": 11,
   "metadata": {},
   "outputs": [
    {
     "output_type": "stream",
     "name": "stdout",
     "text": [
      "52\n36\n1\n2\n3\n4\n5\n6\n(1, 2, 3, 4, 5, 6)\n1\n[1, 2, 3, 4, 5, 6]\n6\n1\n[1]\n"
     ]
    }
   ],
   "source": [
    "import sys\n",
    "tupe = (1,2,3,4,5,6)\n",
    "print(sys.getsizeof(tupe))\n",
    "print(tupe.__sizeof__())\n",
    "\n",
    "for i in tupe:\n",
    "    print(i)\n",
    "print(tupe[:])\n",
    "\n",
    "print(tupe.count(1))\n",
    "print(sorted(tupe))\n",
    "\n",
    "print(max(tupe))\n",
    "print(min(tupe))\n",
    "find = 1\n",
    "print([ele for ele in tupe if ele == find])\n"
   ]
  },
  {
   "cell_type": "code",
   "execution_count": null,
   "metadata": {},
   "outputs": [],
   "source": [
    "\"\"\"\n",
    "28. concatinate two tuples and create third \n",
    "\"\"\""
   ]
  },
  {
   "cell_type": "code",
   "execution_count": 12,
   "metadata": {},
   "outputs": [
    {
     "output_type": "stream",
     "name": "stdout",
     "text": [
      "(1, 2, 3, 4, 5, 6, 7, 8, 9)\n"
     ]
    }
   ],
   "source": [
    "tup1 = (1,2,3,4,5,6)\n",
    "tup2 = (7,8,9)\n",
    "tup3 = tup1 + tup2\n",
    "print(tup3)\n"
   ]
  },
  {
   "cell_type": "code",
   "execution_count": null,
   "metadata": {},
   "outputs": [],
   "source": [
    "\"\"\"\n",
    "29. perform repetation operation on tuple\n",
    "\"\"\"\n"
   ]
  },
  {
   "cell_type": "code",
   "execution_count": 13,
   "metadata": {},
   "outputs": [
    {
     "output_type": "stream",
     "name": "stdout",
     "text": [
      "The original tuple : (1, 3)\nThe duplicated tuple elements are : ((1, 3), (1, 3), (1, 3), (1, 3))\n"
     ]
    }
   ],
   "source": [
    "from itertools import repeat\n",
    "test_tup = (1, 3)\n",
    "print(\"The original tuple : \" + str(test_tup))\n",
    "N = 4\n",
    "res = tuple(repeat(test_tup, N))\n",
    "print(\"The duplicated tuple elements are : \" + str(res))"
   ]
  },
  {
   "cell_type": "code",
   "execution_count": null,
   "metadata": {},
   "outputs": [],
   "source": [
    "\"\"\"\n",
    "30.Create two tuples and compare elements using cmp \n",
    "\"\"\""
   ]
  },
  {
   "cell_type": "code",
   "execution_count": 14,
   "metadata": {},
   "outputs": [
    {
     "output_type": "error",
     "ename": "NameError",
     "evalue": "name 'cmp' is not defined",
     "traceback": [
      "\u001b[1;31m---------------------------------------------------------------------------\u001b[0m",
      "\u001b[1;31mNameError\u001b[0m                                 Traceback (most recent call last)",
      "\u001b[1;32m<ipython-input-14-da46bfadd51a>\u001b[0m in \u001b[0;36m<module>\u001b[1;34m\u001b[0m\n\u001b[0;32m      1\u001b[0m \u001b[0ma\u001b[0m \u001b[1;33m=\u001b[0m \u001b[1;36m1\u001b[0m\u001b[1;33m\u001b[0m\u001b[1;33m\u001b[0m\u001b[0m\n\u001b[0;32m      2\u001b[0m \u001b[0mb\u001b[0m \u001b[1;33m=\u001b[0m \u001b[1;36m2\u001b[0m\u001b[1;33m\u001b[0m\u001b[1;33m\u001b[0m\u001b[0m\n\u001b[1;32m----> 3\u001b[1;33m \u001b[0mprint\u001b[0m\u001b[1;33m(\u001b[0m\u001b[0mcmp\u001b[0m\u001b[1;33m(\u001b[0m\u001b[0ma\u001b[0m\u001b[1;33m,\u001b[0m \u001b[0mb\u001b[0m\u001b[1;33m)\u001b[0m\u001b[1;33m)\u001b[0m\u001b[1;33m\u001b[0m\u001b[1;33m\u001b[0m\u001b[0m\n\u001b[0m\u001b[0;32m      4\u001b[0m \u001b[0ma\u001b[0m \u001b[1;33m=\u001b[0m \u001b[1;36m2\u001b[0m\u001b[1;33m\u001b[0m\u001b[1;33m\u001b[0m\u001b[0m\n\u001b[0;32m      5\u001b[0m \u001b[0mb\u001b[0m \u001b[1;33m=\u001b[0m \u001b[1;36m2\u001b[0m\u001b[1;33m\u001b[0m\u001b[1;33m\u001b[0m\u001b[0m\n",
      "\u001b[1;31mNameError\u001b[0m: name 'cmp' is not defined"
     ]
    }
   ],
   "source": [
    "a = 1 \n",
    "b = 2 \n",
    "print(cmp(a, b))  \n",
    "a = 2\n",
    "b = 2 \n",
    "print(cmp(a, b))  \n",
    "a = 3\n",
    "b = 2 \n",
    "print(cmp(a, b))"
   ]
  },
  {
   "cell_type": "code",
   "execution_count": null,
   "metadata": {},
   "outputs": [],
   "source": [
    "\"\"\"\n",
    "31.a= 10, b=20, c=30, d=40\n",
    "\tPerform packing and unpacking of above elements and print them\n",
    "\"\"\""
   ]
  },
  {
   "cell_type": "code",
   "execution_count": 16,
   "metadata": {},
   "outputs": [
    {
     "output_type": "stream",
     "name": "stdout",
     "text": [
      "1 2 3 4\n15\n30\n"
     ]
    }
   ],
   "source": [
    "def fun(a, b, c, d):\n",
    "    print(a, b, c, d)\n",
    " \n",
    "# Driver Code\n",
    "my_list = [1, 2, 3, 4]\n",
    "fun(*my_list)\n",
    "\n",
    "def mySum(*args):\n",
    "    return sum(args)\n",
    " \n",
    "print(mySum(1, 2, 3, 4, 5))\n",
    "print(mySum(10, 20))"
   ]
  },
  {
   "cell_type": "code",
   "execution_count": null,
   "metadata": {},
   "outputs": [],
   "source": [
    "\"\"\"\n",
    "32. What is difference between list and tuple\n",
    "\"\"\"\n"
   ]
  },
  {
   "cell_type": "code",
   "execution_count": null,
   "metadata": {},
   "outputs": [],
   "source": [
    "\"\"\"\n",
    "Difference Between List and Tuple in Python:  \n",
    "\n",
    "SR.NO.\tLIST\t                                                 TUPLE\n",
    "1\tLists are mutable\t                                   Tuples are immutable\n",
    "2\tImplication of iterations is Time-consuming\t           The implication of iterations is comparatively Faster\n",
    "3\tThe list is better for performing operations,\n",
    " such as insertion and deletion.\t                       Tuple data type is appropriate for accessing the elements\n",
    "4\tLists consume more memory\t                           Tuple consume less memory as compared to the list\n",
    "5\tLists have several built-in methods\t                   Tuple does not have many built-in methods.\n",
    "6\tThe unexpected changes and errors\n",
    " are more likely to occur\t                               In tuple, it is hard to take place.\n",
    "\n",
    " \"\"\""
   ]
  },
  {
   "cell_type": "code",
   "execution_count": null,
   "metadata": {},
   "outputs": [],
   "source": [
    "\"\"\"\n",
    "33. What is internal representation of list and tuple \n",
    "\n",
    "https://www.geeksforgeeks.org/internal-working-of-list-in-python/\n",
    "https://www.geeksforgeeks.org/tuples-in-python/\n",
    "\n",
    "\"\"\""
   ]
  },
  {
   "cell_type": "code",
   "execution_count": null,
   "metadata": {},
   "outputs": [],
   "source": [
    "\"\"\"\n",
    "34. Create list and convert it to tuple and viceversa\n",
    "\"\"\"\n"
   ]
  },
  {
   "cell_type": "code",
   "execution_count": 18,
   "metadata": {},
   "outputs": [
    {
     "output_type": "stream",
     "name": "stdout",
     "text": [
      "(1, 2, 3, 4, 5, 6, 7)\n[1, 2, 3, 4, 5, 6, 7]\n"
     ]
    }
   ],
   "source": [
    "convList = [1,2,3,4,5,6,7]\n",
    "print(tuple(convList))\n",
    "print(list(convList))"
   ]
  },
  {
   "cell_type": "code",
   "execution_count": null,
   "metadata": {},
   "outputs": [],
   "source": [
    "\"\"\"\n",
    "35. convert list of lists to tuple of tuple \n",
    "\"\"\"\n"
   ]
  },
  {
   "cell_type": "code",
   "execution_count": 19,
   "metadata": {},
   "outputs": [
    {
     "output_type": "stream",
     "name": "stdout",
     "text": [
      "The original list is : [['G', 'i', 'B'], ['G', 'i', 'l'], ['G', 'i', 'f', 'G']]\nThe converted data : (('G', 'i', 'B'), ('G', 'i', 'l'), ('G', 'i', 'f', 'G'))\n"
     ]
    }
   ],
   "source": [
    "test_list = [['G', 'i', 'B'], ['G', 'i', 'l'],\n",
    "                            ['G', 'i', 'f', 'G']]\n",
    "  \n",
    "print(\"The original list is : \" + str(test_list))\n",
    "\n",
    "res = tuple(tuple(sub) for sub in test_list)\n",
    "print(\"The converted data : \" + str(res)) "
   ]
  },
  {
   "cell_type": "code",
   "execution_count": null,
   "metadata": {},
   "outputs": [],
   "source": [
    "\"\"\"\n",
    "36. WAP to create a tuple with different data types, print the element, address and type \n",
    "\"\"\"\n"
   ]
  },
  {
   "cell_type": "code",
   "execution_count": 22,
   "metadata": {},
   "outputs": [
    {
     "output_type": "stream",
     "name": "stdout",
     "text": [
      "(1, 'ABC', 1.1)\n1 1655490688 <class 'int'>\nABC 13240832 <class 'str'>\n1.1 107696240 <class 'float'>\n"
     ]
    }
   ],
   "source": [
    "tup = (1,'ABC',1.1)\n",
    "print(tup)\n",
    "for i in tup:\n",
    "    print(i, id(i),type(i))"
   ]
  },
  {
   "cell_type": "code",
   "execution_count": null,
   "metadata": {},
   "outputs": [],
   "source": [
    "\"\"\"\n",
    "Create tuple and add element in it. As tuples are immutable, will it able to add new element in the tuple, provided the reason in both Yes and No cases.\n",
    "\n",
    "\"\"\""
   ]
  },
  {
   "cell_type": "code",
   "execution_count": 23,
   "metadata": {},
   "outputs": [
    {
     "output_type": "stream",
     "name": "stdout",
     "text": [
      "[10, 50, 20, 9, 40, 25, 60, 30, 1, 56]\n(10, 50, 20, 9, 40, 25, 60, 30, 1, 56, 100)\n"
     ]
    }
   ],
   "source": [
    "\"\"\"\n",
    "Python tuple is an immutable object. Hence any operation that tries to modify it (like append) is not allowed. However, following workaround can be used.\n",
    "\n",
    "First, convert tuple to list by built-in function list(). You can always append item to list object. Then use another built-in function tuple() to convert this list object back to tuple.\n",
    "\"\"\"\n",
    "T1=(10,50,20,9,40,25,60,30,1,56)\n",
    "L1=list(T1)\n",
    "print(L1)\n",
    "L1.append(100)\n",
    "T1=tuple(L1)\n",
    "print(T1)"
   ]
  },
  {
   "cell_type": "code",
   "execution_count": null,
   "metadata": {},
   "outputs": [],
   "source": [
    "\"\"\"\n",
    "38. Create tuple and remove element it. As tuples are immutable, will it able to add new element in the tuple, provided the reason in both Yes and No cases.\n",
    "\"\"\"\n"
   ]
  },
  {
   "cell_type": "code",
   "execution_count": 24,
   "metadata": {},
   "outputs": [
    {
     "output_type": "stream",
     "name": "stdout",
     "text": [
      "(1, 2, 4, 5)\n"
     ]
    }
   ],
   "source": [
    "\"\"\"\n",
    "Tuples in python are immutable. If you want to remove items out of a Python tuple, you can use index slicing to leave out a particular index. For example,\n",
    "\"\"\"\n",
    "\n",
    "a = (1, 2, 3, 4, 5)\n",
    "b = a[:2] + a[3:]\n",
    "print(b)"
   ]
  },
  {
   "cell_type": "code",
   "execution_count": null,
   "metadata": {},
   "outputs": [],
   "source": [
    "\"\"\"\n",
    "WAP to convert tuple of chars to string \n",
    "\"\"\""
   ]
  },
  {
   "cell_type": "code",
   "execution_count": 25,
   "metadata": {},
   "outputs": [
    {
     "output_type": "stream",
     "name": "stdout",
     "text": [
      "Kunal\n"
     ]
    }
   ],
   "source": [
    "def convertTuple(tup):\n",
    "    str =  ''.join(tup)\n",
    "    return str\n",
    "  \n",
    "tuple = ('K', 'u', 'n', 'a', 'l')\n",
    "str = convertTuple(tuple)\n",
    "print(str)"
   ]
  },
  {
   "cell_type": "code",
   "execution_count": null,
   "metadata": {},
   "outputs": [],
   "source": [
    "\"\"\"\n",
    "40. WAP to convert a list of tuples into a dictionary\n",
    "\"\"\"\n"
   ]
  },
  {
   "cell_type": "code",
   "execution_count": 26,
   "metadata": {},
   "outputs": [
    {
     "output_type": "stream",
     "name": "stdout",
     "text": [
      "{'a': 10, 'b': 12, 'c': 14, 'd': 20, 'e': 25, 'f': 30}\n"
     ]
    }
   ],
   "source": [
    "def Convert(tup, di):\n",
    "    di = dict(tup)\n",
    "    return di\n",
    "      \n",
    "tups = [(\"a\", 10), (\"b\", 12), (\"c\", 14), \n",
    "    (\"d\", 20), (\"e\", 25), (\"f\", 30)]\n",
    "dictionary = {}\n",
    "print (Convert(tups, dictionary))"
   ]
  },
  {
   "cell_type": "code",
   "execution_count": null,
   "metadata": {},
   "outputs": [],
   "source": [
    "\"\"\"\n",
    "41. WAP to replace last value of tuples in a list.\n",
    "Sample list: [(10, 20, 40), (40, 50, 60), (70, 80, 90)]\n",
    "Expected Output: [(10, 20, 100), (40, 50, 100), (70, 80, 100)]\n",
    "\n",
    "\"\"\""
   ]
  },
  {
   "cell_type": "code",
   "execution_count": 13,
   "metadata": {},
   "outputs": [
    {
     "output_type": "stream",
     "name": "stdout",
     "text": [
      "[(10, 20, 100), (40, 50, 100), (70, 80, 100)]\n"
     ]
    }
   ],
   "source": [
    "\n",
    "def changeEle(l,val):\n",
    "    for ind,i in enumerate(l):\n",
    "        temp=list(i)\n",
    "        temp[-1]=val\n",
    "        l[ind]=tuple(temp)\n",
    "    return l\n",
    "l1 = [(10, 20, 40), (40, 50, 60), (70, 80, 90)]\n",
    "print(changeEle(l1,100))\n"
   ]
  },
  {
   "cell_type": "code",
   "execution_count": null,
   "metadata": {},
   "outputs": [],
   "source": [
    "\"\"\"\n",
    "42. WAP to remove an empty tuple(s) from a list of tuples.\n",
    "\"\"\""
   ]
  },
  {
   "cell_type": "code",
   "execution_count": 51,
   "metadata": {},
   "outputs": [
    {
     "output_type": "stream",
     "name": "stdout",
     "text": [
      "[('a', '15', '8'), ('b', 'sita'), ('c', 'd', '45'), ('', '')]\n"
     ]
    }
   ],
   "source": [
    "def Remove(tuples):\n",
    "    tuples = [t for t in tuples if t]\n",
    "    return tuples\n",
    "  \n",
    "tuples = [(), ('a','15','8'), (), ('b', 'sita'), \n",
    "          ('c', 'd', '45'), ('',''),()]\n",
    "print(Remove(tuples))"
   ]
  },
  {
   "cell_type": "code",
   "execution_count": null,
   "metadata": {},
   "outputs": [],
   "source": [
    "\"\"\"\n",
    "43. There is a tuple, each item represent name and marks of student. List Ex. [(Karthik, 78, 67, 93), (Sarthak, 81, 73, 92)]\n",
    "\t1. We need to identify first three toppers of the batch. Print their score and average.\n",
    "\t2. We need to get the topper in each subject\n",
    "\t3. We need to know te list of students failed in the any subject (passing marks = 40)\n",
    "\"\"\"\n"
   ]
  },
  {
   "cell_type": "code",
   "execution_count": null,
   "metadata": {},
   "outputs": [],
   "source": [
    "\"\"\"\n",
    "44. WAP to convert of list of tuples to list of lists\n",
    "\"\"\"\n"
   ]
  },
  {
   "cell_type": "code",
   "execution_count": null,
   "metadata": {},
   "outputs": [],
   "source": [
    "test_list = [(1, 2), (3, 4), (5, 6)]\n",
    "print(\"The original list of tuples : \" + str(test_list))\n",
    "\n",
    "res = [list(ele) for ele in test_list]\n",
    "print(\"The converted list of list : \" + str(res))"
   ]
  },
  {
   "cell_type": "code",
   "execution_count": null,
   "metadata": {},
   "outputs": [],
   "source": [
    "\"\"\"\n",
    "Sort the list of tuples by second item\n",
    "\n",
    "\"\"\""
   ]
  },
  {
   "cell_type": "code",
   "execution_count": null,
   "metadata": {},
   "outputs": [],
   "source": [
    "def Sort_Tuple(tup):  \n",
    "    tup.sort(key = lambda x: x[1]) \n",
    "    return tup \n",
    "tup = [('a', 10), ('b', 5), ('c', 20), ('d', 15)] \n",
    "print(Sort_Tuple(tup)) "
   ]
  },
  {
   "cell_type": "code",
   "execution_count": null,
   "metadata": {},
   "outputs": [],
   "source": [
    "\"\"\"\n",
    "remove the tuples of length 3 from list\n",
    "\n",
    "\"\"\""
   ]
  },
  {
   "cell_type": "code",
   "execution_count": 52,
   "metadata": {},
   "outputs": [
    {
     "output_type": "stream",
     "name": "stdout",
     "text": [
      "[(4,), (3, 4, 6, 7)]\n"
     ]
    }
   ],
   "source": [
    "test_list = [(4, 5,6), (4, ), (8, 6, 7), (3, 4, 6, 7)]\n",
    "print([ele for ele in test_list if len(ele) != 3])"
   ]
  },
  {
   "cell_type": "code",
   "execution_count": null,
   "metadata": {},
   "outputs": [],
   "source": [
    "\"\"\"\n",
    "48. WAP to create the dictionry and perform below steps \n",
    "\t1. print elements from it in key value format using all methods of iteration\n",
    "\t2. update the elements from above dictionary\n",
    "\t3. delete elements \n",
    "\t4. empty the directory\n",
    "\t5. get size of dictionary\n",
    "\t6. return and remove the value associsted with specific key \n",
    "\t7. remove arbitary item from the dictionary\n",
    "\t8. get all keys from the dictionary\n",
    "\t9. get all values from dictionary\n",
    "\t10. get list of tuples from the dict and represent it in the key value pair\n",
    "\t11. create the copy of the list \n",
    "\t12. Update the dictionary value \n",
    "\t13. get dictionary with the specified keys and value\n",
    "\t14. filter the dictionary \n",
    "\"\"\"\n"
   ]
  },
  {
   "cell_type": "code",
   "execution_count": 15,
   "metadata": {},
   "outputs": [
    {
     "output_type": "stream",
     "name": "stdout",
     "text": [
      "{1: 'A', 2: 'b', 3: 'c'}\n1\n2\n3\n4\na\nb\nc\nd\n1 : a\n2 : b\n3 : c\n4 : d\nOrderedDict([(1, 'a'), (2, 'b'), (3, 'c'), (4, 'd'), (5, 'e')])\nOrderedDict([(1, 'a'), (2, 'b'), (3, 'c'), (4, 'd')])\n{}\n264\n"
     ]
    }
   ],
   "source": [
    "d = {1:\"A\",2:\"b\",3:\"c\"}\n",
    "print(d)\n",
    "\n",
    "from collections import OrderedDict\n",
    "od = OrderedDict({1:\"a\",2:\"b\",3:\"c\",4:\"d\"})\n",
    "for i in od:\n",
    "    print(i)\n",
    "\n",
    "for i in od.values():\n",
    "    print(i)\n",
    "\n",
    "for i, j in od.items():\n",
    "    print(i,\":\",j)\n",
    "od.update({5:\"e\"})\n",
    "print(od)\n",
    "od.pop(5)\n",
    "print(od)\n",
    "d.clear()\n",
    "print(d)\n",
    "import sys \n",
    "print(sys.getsizeof(od))\n",
    "\n",
    "\n"
   ]
  },
  {
   "cell_type": "code",
   "execution_count": null,
   "metadata": {},
   "outputs": [],
   "source": [
    "\"\"\"\n",
    "49. explore the function setdefault\n",
    "\"\"\"\n"
   ]
  },
  {
   "source": [
    "Dictionary1 = { 'A': 'Kunal', 'B': 'Agrawal'}\n",
    "\n",
    "Third_value = Dictionary1.setdefault('C')\n",
    "print(\"Dictionary:\", Dictionary1)\n",
    "print(\"Third_value:\", Third_value)\n",
    "Fourth_value = Dictionary1.setdefault('D', 'agrawal')\n",
    "print(\"Dictionary:\", Dictionary1)\n",
    "print(\"Fourth_value:\", Fourth_value)"
   ],
   "cell_type": "code",
   "metadata": {},
   "execution_count": 17,
   "outputs": [
    {
     "output_type": "stream",
     "name": "stdout",
     "text": [
      "Dictionary: {'A': 'Kunal', 'B': 'Agrawal', 'C': None}\nThird_value: None\nDictionary: {'A': 'Kunal', 'B': 'Agrawal', 'C': None, 'D': 'agrawal'}\nFourth_value: agrawal\n"
     ]
    }
   ]
  },
  {
   "cell_type": "code",
   "execution_count": null,
   "metadata": {},
   "outputs": [],
   "source": [
    "\"\"\"\n",
    "50. WAP to get occurances of each letter present in  given string \n",
    "\"\"\"\n"
   ]
  },
  {
   "cell_type": "code",
   "execution_count": 23,
   "metadata": {},
   "outputs": [
    {
     "output_type": "stream",
     "name": "stdout",
     "text": [
      "{'k': 1, 'u': 1, 'n': 1, 'a': 4, 'l': 2, 'g': 1, 'r': 1, 'w': 1}\n"
     ]
    }
   ],
   "source": [
    "inp_str = \"kunalagrawal\"\n",
    "freq = {} \n",
    "for ele in inp_str: \n",
    "    if ele in freq: \n",
    "        freq[ele] += 1\n",
    "    else: \n",
    "        freq[ele] = 1\n",
    "print(freq)"
   ]
  },
  {
   "cell_type": "code",
   "execution_count": null,
   "metadata": {},
   "outputs": [],
   "source": [
    "\"\"\"\n",
    "51. There is a dict, each item represent name and marks of student.\n",
    "\t1. We need to identify first three toppers of the batch. Print their score and average.\n",
    "\t2. We need to get the topper in each subject\n",
    "\t3. We need to know te list of students failed in the any subject (passing marks = 40)\n",
    "\t4. Display marks of student by taking student name as input from console\n",
    "\"\"\""
   ]
  },
  {
   "cell_type": "code",
   "execution_count": 17,
   "metadata": {},
   "outputs": [],
   "source": [
    "def failcheck(x):\n",
    "    for i in range(1,4):\n",
    "        if(x[i]<40):\n",
    "            return True\n",
    "    return False\n",
    "def find4(l):\n",
    "    l.sort(key= lambda x : x[1]+x[2]+x[3],reverse=True)\n",
    "    for i in range(1,4):\n",
    "        print(\"max of subject {} is {}\".format(i,max(l,key=lambda x:x[i])))\n",
    "    print(list(filter(failcheck, l)))"
   ]
  },
  {
   "cell_type": "code",
   "execution_count": null,
   "metadata": {},
   "outputs": [],
   "source": [
    "\"\"\"\n",
    "52. Ways to sort list of dictionaries by values in Python – Using itemgetter\n",
    "\"\"\"\n"
   ]
  },
  {
   "cell_type": "code",
   "execution_count": 28,
   "metadata": {},
   "outputs": [
    {
     "output_type": "stream",
     "name": "stdout",
     "text": [
      "The list printed sorting by age: \n[{'name': 'Nikhil', 'age': 19}, {'name': 'Nandini', 'age': 20}, {'name': 'Manjeet', 'age': 20}]\n\nThe list printed sorting by age and name: \n[{'name': 'Nikhil', 'age': 19}, {'name': 'Manjeet', 'age': 20}, {'name': 'Nandini', 'age': 20}]\n\nThe list printed sorting by age in descending order: \n[{'name': 'Nandini', 'age': 20}, {'name': 'Manjeet', 'age': 20}, {'name': 'Nikhil', 'age': 19}]\n"
     ]
    }
   ],
   "source": [
    "from operator import itemgetter\n",
    "\n",
    "lis = [{ \"name\" : \"Nandini\", \"age\" : 20}, \n",
    "{ \"name\" : \"Manjeet\", \"age\" : 20 },\n",
    "{ \"name\" : \"Nikhil\" , \"age\" : 19 }]\n",
    "  \n",
    "print (\"The list printed sorting by age: \")\n",
    "print (sorted(lis, key=itemgetter('age')))\n",
    "print (\"\\r\")\n",
    "print (\"The list printed sorting by age and name: \")\n",
    "print (sorted(lis, key=itemgetter('age', 'name')))\n",
    "print (\"\\r\")\n",
    "print (\"The list printed sorting by age in descending order: \")\n",
    "print (sorted(lis, key=itemgetter('age'),reverse = True))\n",
    "\n",
    "\n"
   ]
  },
  {
   "source": [
    "\"\"\"\n",
    "53. Ways to sort list of dictionaries by values in Python – Using lambda function\n",
    "\"\"\""
   ],
   "cell_type": "code",
   "metadata": {},
   "execution_count": null,
   "outputs": []
  },
  {
   "cell_type": "code",
   "execution_count": null,
   "metadata": {},
   "outputs": [],
   "source": [
    "mylis = [{\"name\":\"a\",\"age\":17},\n",
    "{\"name\":\"b\",\"age\":15},\n",
    "{\"name\":\"c\",\"age\":20}]\n",
    "print(\"list\",mylis)\n",
    "print(\"sorted list\",sorted(mylis,key = lambda i:i['age']))\n",
    "print(\"sorted list in reverse\",sorted(mylis, key = lambda i:i['age'],reverse=True))"
   ]
  },
  {
   "cell_type": "code",
   "execution_count": null,
   "metadata": {},
   "outputs": [],
   "source": [
    "\"\"\"\n",
    "54. WAP to merge two Dictionaries\n",
    "\"\"\""
   ]
  },
  {
   "cell_type": "code",
   "execution_count": 32,
   "metadata": {},
   "outputs": [
    {
     "output_type": "stream",
     "name": "stdout",
     "text": [
      "None\n{'d': 6, 'c': 4, 'a': 10, 'b': 8}\n"
     ]
    }
   ],
   "source": [
    "def Merge(dict1, dict2):\n",
    "    return(dict2.update(dict1))\n",
    "     \n",
    "dict1 = {'a': 10, 'b': 8}\n",
    "dict2 = {'d': 6, 'c': 4}\n",
    "print(Merge(dict1, dict2))\n",
    "print(dict2)"
   ]
  },
  {
   "cell_type": "code",
   "execution_count": null,
   "metadata": {},
   "outputs": [],
   "source": [
    "\"\"\"\n",
    "55. Convert Key-Value list Dictionary to List of Lists\n",
    "\"\"\"\n"
   ]
  },
  {
   "cell_type": "code",
   "execution_count": 34,
   "metadata": {},
   "outputs": [
    {
     "output_type": "stream",
     "name": "stdout",
     "text": [
      "The original dictionary is : {'a': [1, 3, 4], 'b': [7, 6], 'c': [4, 5]}\nThe converted list is : [['a', 1, 3, 4], ['b', 7, 6], ['c', 4, 5]]\n"
     ]
    }
   ],
   "source": [
    "test_dict = {'a' : [1, 3, 4], 'b' : [7, 6], 'c' : [4, 5]}\n",
    "print(\"The original dictionary is : \" + str(test_dict))\n",
    "res = []\n",
    "for key, val in test_dict.items():\n",
    "    res.append([key] + val)\n",
    "print(\"The converted list is : \" + str(res))"
   ]
  },
  {
   "cell_type": "code",
   "execution_count": null,
   "metadata": {},
   "outputs": [],
   "source": [
    "\"\"\"\n",
    "56.Convert List to List of dictionaries\n",
    "\"\"\""
   ]
  },
  {
   "cell_type": "code",
   "execution_count": null,
   "metadata": {},
   "outputs": [],
   "source": [
    "\"\"\"\n",
    "Convert Lists of List to Dictionary\n",
    "\"\"\""
   ]
  },
  {
   "cell_type": "code",
   "execution_count": null,
   "metadata": {},
   "outputs": [],
   "source": [
    "test_list = [{'Nikhil' : 17, 'Akash' : 18, 'Akshat' : 20},\n",
    "             {'Nikhil' : 21, 'Akash' : 30, 'Akshat' : 10},\n",
    "             {'Nikhil' : 31, 'Akash' : 12, 'Akshat' : 19}]\n",
    "  \n",
    "print(\"The original list is : \" + str(test_list))\n",
    "res = []\n",
    "for idx, sub in enumerate(test_list, start = 0):\n",
    "    if idx == 0:\n",
    "        res.append(list(sub.keys()))\n",
    "        res.append(list(sub.values()))\n",
    "    else:\n",
    "        res.append(list(sub.values()))\n",
    "print(\"The converted list : \" + str(res)) "
   ]
  },
  {
   "cell_type": "code",
   "execution_count": null,
   "metadata": {},
   "outputs": [],
   "source": [
    "\"\"\"\n",
    "58. Convert List of Dictionaries to List of Lists\n",
    "\"\"\"\n"
   ]
  },
  {
   "cell_type": "code",
   "execution_count": 1,
   "metadata": {},
   "outputs": [
    {
     "output_type": "stream",
     "name": "stdout",
     "text": [
      "The original list is : [['a', 'b', 1, 2], ['c', 'd', 3, 4], ['e', 'f', 5, 6]]\nThe mapped Dictionary : {('a', 'b'): (1, 2), ('c', 'd'): (3, 4), ('e', 'f'): (5, 6)}\n"
     ]
    }
   ],
   "source": [
    "test_list = [['a', 'b', 1, 2], ['c', 'd', 3, 4], ['e', 'f', 5, 6]]\n",
    "print(\"The original list is : \" + str(test_list))\n",
    "\n",
    "res = dict()\n",
    "for sub in test_list:\n",
    "    res[tuple(sub[:2])] = tuple(sub[2:])\n",
    " \n",
    "print(\"The mapped Dictionary : \" + str(res)) "
   ]
  },
  {
   "cell_type": "code",
   "execution_count": null,
   "metadata": {},
   "outputs": [],
   "source": [
    "\"\"\"\n",
    "59. Convert key-values list to flat dictionary\n",
    "\n",
    "\"\"\"\n"
   ]
  },
  {
   "cell_type": "code",
   "execution_count": 2,
   "metadata": {},
   "outputs": [
    {
     "output_type": "stream",
     "name": "stdout",
     "text": [
      "The original dictionary is : {'month': [1, 2, 3], 'name': ['Jan', 'Feb', 'March']}\nFlattened dictionary : {1: 'Jan', 2: 'Feb', 3: 'March'}\n"
     ]
    }
   ],
   "source": [
    "from itertools import product\n",
    "  \n",
    "# initializing dictionary\n",
    "test_dict = {'month' : [1, 2, 3],\n",
    "             'name' : ['Jan', 'Feb', 'March']}\n",
    "print(\"The original dictionary is : \" + str(test_dict))\n",
    "res = dict(zip(test_dict['month'], test_dict['name']))\n",
    "print(\"Flattened dictionary : \" + str(res)) "
   ]
  },
  {
   "cell_type": "code",
   "execution_count": null,
   "metadata": {},
   "outputs": [],
   "source": [
    "\"\"\"\n",
    "Convert a list of Tuples into Dictionary\n",
    "\n",
    "\"\"\"\n"
   ]
  },
  {
   "cell_type": "code",
   "execution_count": 3,
   "metadata": {},
   "outputs": [
    {
     "output_type": "stream",
     "name": "stdout",
     "text": [
      "{'Nakul': [93], 'Shivansh': [45], 'Samved': [65], 'Yash': [88], 'Vidit': [70], 'Pradeep': [52]}\n"
     ]
    }
   ],
   "source": [
    "list_1=[(\"Nakul\",93), (\"Shivansh\",45), (\"Samved\",65),\n",
    "           (\"Yash\",88), (\"Vidit\",70), (\"Pradeep\",52)]\n",
    "dict_1=dict()\n",
    "  \n",
    "for student,score in list_1:\n",
    "    dict_1.setdefault(student, []).append(score)\n",
    "print(dict_1)"
   ]
  },
  {
   "cell_type": "code",
   "execution_count": null,
   "metadata": {},
   "outputs": [],
   "source": [
    "\"\"\"\n",
    "61. Convert Nested dictionary to Mapped Tuple\n",
    "\"\"\""
   ]
  },
  {
   "cell_type": "code",
   "execution_count": 4,
   "metadata": {},
   "outputs": [
    {
     "output_type": "stream",
     "name": "stdout",
     "text": [
      "The original dictionary is : {'gfg': {'x': 5, 'y': 6}, 'is': {'x': 1, 'y': 4}, 'best': {'x': 8, 'y': 3}}\nThe grouped dictionary : [('x', (5, 1, 8)), ('y', (6, 4, 3))]\n"
     ]
    }
   ],
   "source": [
    "test_dict = {'gfg' : {'x' : 5, 'y' : 6}, 'is' : {'x' : 1, 'y' : 4},\n",
    "                                      'best' : {'x' : 8, 'y' : 3}}\n",
    "print(\"The original dictionary is : \" + str(test_dict))\n",
    "\n",
    "res = [(key, tuple(sub[key] for sub in test_dict.values())) \n",
    "                               for key in test_dict['gfg']]\n",
    "   \n",
    "print(\"The grouped dictionary : \" + str(res)) "
   ]
  },
  {
   "cell_type": "code",
   "execution_count": null,
   "metadata": {},
   "outputs": [],
   "source": [
    "\"\"\"\n",
    "63. CReate a dictionary/ nested  dict of which will held books name, author name, price, year of publishing, num pages, copies sold, rating, category, (chapter, number of pages per chapter, number of characters), (publish name, publisher address), location of availability\n",
    "Create data using faker model if possible or have your own data created for this exercise.\n",
    "Category : Fiction, nonfiction, scifi, economy, sports, mythology\n",
    "\n",
    "\t1. Get number of boks published by each auhor in each year and nuber of copies sold \n",
    "\t2. Get total payment received by each author per book and total amount of money he earned at the end \n",
    "\t3. Get the location where maximum boks are available \n",
    "\t4. Get name of the publishe who have published max number of books \n",
    "\t5. Get name of the authos who has developed maximum characters \n",
    "\t6. Get the name of best book considering the copies sold and rating, Get the best book from each catrgory.\n",
    "\t7. Sort the dict by author name and year of publishing\n",
    "\t8. Sort the dict by copies sold and rating \n",
    "\"\"\"\n"
   ]
  },
  {
   "cell_type": "code",
   "execution_count": null,
   "metadata": {},
   "outputs": [],
   "source": []
  }
 ]
}